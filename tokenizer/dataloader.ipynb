{
 "cells": [
  {
   "cell_type": "code",
   "execution_count": 20,
   "id": "d14c95cb-d586-4f80-98d5-c2ce1bdb2cb2",
   "metadata": {},
   "outputs": [],
   "source": [
    "import os\n",
    "from torch.utils.data import Dataset\n",
    "import torch\n",
    "from wordPieceTokenizer import WordPieceTokenizer\n",
    "import json\n",
    "import re\n",
    "import urllib.request\n",
    "from collections import defaultdict, Counter\n",
    "import random\n",
    "import numpy as np\n",
    "\n",
    "random.seed(0)\n",
    "\n",
    "def load_separate_and_clean_stories(filename):\n",
    "    with open(filename, 'r') as file:\n",
    "        content = file.read()\n",
    "\n",
    "    stories = content.split('\\n\\n\\n\\n')\n",
    "\n",
    "    cleaned_stories = []\n",
    "    for story in stories:\n",
    "        cleaned_story = re.sub(r'\\n\\s*\\n', '\\n', story.strip())\n",
    "        cleaned_stories.append(cleaned_story)\n",
    "    \n",
    "    return cleaned_stories"
   ]
  },
  {
   "cell_type": "code",
   "execution_count": 21,
   "id": "3e1d6409-bc2d-480b-b9bf-8e856523a8c9",
   "metadata": {},
   "outputs": [],
   "source": [
    "class MyDataset(Dataset):\n",
    "\n",
    "    def __init__(self, dict_,mask=False):\n",
    "        super().__init__()\n",
    "        self.dict = dict_\n",
    "        self.mask = mask\n",
    "    def __len__(self):\n",
    "        return len(self.dict)\n",
    "\n",
    "    def __getitem__(self, idx):\n",
    "        \n",
    "        text = self.dict[str(idx)]['text']\n",
    "\n",
    "        tokens = torch.tensor(self.dict[str(idx)]['tokens'])\n",
    "\n",
    "        if self.mask!=False:\n",
    "            idxs = np.linspace(0,len(tokens)-1,len(tokens)).astype(int)\n",
    "            pos = random.choices(idxs, k=int(len(idxs)*0.15))\n",
    "            tokens[pos] = self.mask\n",
    "\n",
    "        return text,tokens"
   ]
  },
  {
   "cell_type": "code",
   "execution_count": 4,
   "id": "19421035-60b8-4739-9647-d1ccbc37e54b",
   "metadata": {},
   "outputs": [],
   "source": [
    "# Load the tokenizer\n",
    "tokenizer = WordPieceTokenizer()\n",
    "tokenizer.load('wordPieceVocab.json')\n",
    "\n",
    "# Load the dataset\n",
    "dataset_txt = load_separate_and_clean_stories(\"dataset/combined_stories.txt\")\n",
    "\n",
    "dict_ = {}\n",
    "for i in range(len(dataset_txt)//20):\n",
    "    dict_[i] = {'text':dataset_txt[i],\n",
    "                'tokens':tokenizer.encode_n(dataset_txt[i])\n",
    "                 }\n",
    "\n",
    "with open(\"dataset/dataset_dict.json\", \"w\") as outfile: \n",
    "    json.dump(dict_, outfile)  # We can read this file to avoid computing again the dict_"
   ]
  },
  {
   "cell_type": "code",
   "execution_count": 22,
   "id": "08cfb7fe-7233-4d53-946e-9faf41e5d18c",
   "metadata": {},
   "outputs": [],
   "source": [
    "with open('dataset/dataset_dict.json') as json_file:\n",
    "    dict_ = json.load(json_file)\n",
    "    \n",
    "complete_dataloader = MyDataset(dict_,tokenizer.word2idx[\"[MASK]\"])"
   ]
  },
  {
   "cell_type": "code",
   "execution_count": 24,
   "id": "3666d63c-d386-400c-b8b1-418604d3f754",
   "metadata": {},
   "outputs": [
    {
     "data": {
      "text/plain": [
       "1597"
      ]
     },
     "execution_count": 24,
     "metadata": {},
     "output_type": "execute_result"
    }
   ],
   "source": [
    "len(complete_dataloader.__getitem__(0)[1])"
   ]
  },
  {
   "cell_type": "code",
   "execution_count": 25,
   "id": "52fc7626-ea71-4745-a77d-f151aa18a5ed",
   "metadata": {},
   "outputs": [
    {
     "data": {
      "text/plain": [
       "223"
      ]
     },
     "execution_count": 25,
     "metadata": {},
     "output_type": "execute_result"
    }
   ],
   "source": [
    "len(np.where(complete_dataloader.__getitem__(0)[1]==4)[0])"
   ]
  }
 ],
 "metadata": {
  "kernelspec": {
   "display_name": "Python 3 (ipykernel)",
   "language": "python",
   "name": "python3"
  },
  "language_info": {
   "codemirror_mode": {
    "name": "ipython",
    "version": 3
   },
   "file_extension": ".py",
   "mimetype": "text/x-python",
   "name": "python",
   "nbconvert_exporter": "python",
   "pygments_lexer": "ipython3",
   "version": "3.11.9"
  }
 },
 "nbformat": 4,
 "nbformat_minor": 5
}
