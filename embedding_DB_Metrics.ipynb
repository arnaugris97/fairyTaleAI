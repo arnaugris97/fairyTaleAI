{
 "cells": [
  {
   "cell_type": "code",
   "execution_count": 1,
   "id": "436f2295-f1aa-4d46-9e08-6e3391d64a07",
   "metadata": {
    "collapsed": true,
    "jupyter": {
     "outputs_hidden": true
    }
   },
   "outputs": [
    {
     "name": "stderr",
     "output_type": "stream",
     "text": [
      "/opt/miniconda3/envs/fAIrytale/lib/python3.11/site-packages/threadpoolctl.py:1214: RuntimeWarning: \n",
      "Found Intel OpenMP ('libiomp') and LLVM OpenMP ('libomp') loaded at\n",
      "the same time. Both libraries are known to be incompatible and this\n",
      "can cause random crashes or deadlocks on Linux when loaded in the\n",
      "same Python program.\n",
      "Using threadpoolctl may cause crashes or deadlocks. For more\n",
      "information and possible workarounds, please see\n",
      "    https://github.com/joblib/threadpoolctl/blob/master/multiple_openmp.md\n",
      "\n",
      "  warnings.warn(msg, RuntimeWarning)\n"
     ]
    }
   ],
   "source": [
    "from create_embedding_DB import ChromaEmbeddingProcessor\n",
    "import pandas as pd\n",
    "from sklearn.model_selection import train_test_split\n"
   ]
  },
  {
   "cell_type": "code",
   "execution_count": 2,
   "id": "6bb58e52-6bed-4c51-98fd-984915dfc002",
   "metadata": {},
   "outputs": [],
   "source": [
    "model_path = 'Checkpoints/checkpoint.pt'\n",
    "tokenizer_path = 'tokenizer/wordPieceVocab.json'\n",
    "csv_file = 'dataset/dataset_sentences.csv'\n",
    "storage_path = 'vectorDB/'\n",
    "\n",
    "dataset_csv = pd.read_csv('dataset/merged_stories_full.csv')\n",
    "random_state = 123  # We will be testing the Test set defined during training\n",
    "train_val, test = train_test_split(dataset_csv, test_size=0.1, random_state=random_state)\n",
    "\n",
    "processor = ChromaEmbeddingProcessor(model_path, tokenizer_path, csv_file, storage_path)\n",
    "\n",
    "results = processor.process_query('Magical lights, carrots and happy dreams')"
   ]
  },
  {
   "cell_type": "code",
   "execution_count": 6,
   "id": "f7031bf8-a907-4d72-8742-6892e28ea480",
   "metadata": {
    "scrolled": true
   },
   "outputs": [
    {
     "name": "stdout",
     "output_type": "stream",
     "text": [
      "Accuracy@5: 0.0\n"
     ]
    }
   ],
   "source": [
    "correct = 0\n",
    "for title in test.Title.unique():\n",
    "    results = processor.process_query(title)\n",
    "    for title_result in results['metadatas'][0]:\n",
    "        if title_result['title'] == title:\n",
    "            correct+=1\n",
    "            break\n",
    "            \n",
    "print('Accuracy@5:',str(correct/len(test.Title.unique())))\n",
    "            "
   ]
  },
  {
   "cell_type": "code",
   "execution_count": 7,
   "id": "31a112ba-6eeb-4e17-89c1-34b38791dfda",
   "metadata": {},
   "outputs": [
    {
     "data": {
      "text/plain": [
       "0"
      ]
     },
     "execution_count": 7,
     "metadata": {},
     "output_type": "execute_result"
    }
   ],
   "source": [
    "correct"
   ]
  },
  {
   "cell_type": "code",
   "execution_count": null,
   "id": "293035fc-78ba-4281-9b0e-ea535b4e4bbd",
   "metadata": {},
   "outputs": [],
   "source": []
  }
 ],
 "metadata": {
  "kernelspec": {
   "display_name": "Python 3 (ipykernel)",
   "language": "python",
   "name": "python3"
  },
  "language_info": {
   "codemirror_mode": {
    "name": "ipython",
    "version": 3
   },
   "file_extension": ".py",
   "mimetype": "text/x-python",
   "name": "python",
   "nbconvert_exporter": "python",
   "pygments_lexer": "ipython3",
   "version": "3.11.9"
  }
 },
 "nbformat": 4,
 "nbformat_minor": 5
}
