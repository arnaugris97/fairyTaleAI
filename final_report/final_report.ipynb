{
 "cells": [
  {
   "cell_type": "markdown",
   "id": "071b70dd",
   "metadata": {},
   "source": [
    "# Abstract"
   ]
  },
  {
   "cell_type": "markdown",
   "id": "d9f5cbb5",
   "metadata": {},
   "source": [
    "This project aims to assist young parents by making bedtime storytelling easier and more engaging for their children. We chose to develop a Retrieval-Augmented Generation (RAG) system to ensure that the generated fairy tales include fragments or references to well-renowned stories we grew up with and have read previously.\n",
    "\n",
    "We trained a BERT model from scratch and fine-tuned DistilBERT, achieving strong performance in Masked Language Modeling (MLM) and Next Sentence Prediction (NSP). The system integrates tokenization and information retrieval to generate coherent narratives.\n",
    "\n",
    "An interactive Streamlit interface allows users to generate fairy tales from prompts and visualize the tokenization process. Efficient embedding management was achieved with a scalable vector database, crucial for handling large data volumes.\n",
    "\n",
    "Key insights include the benefits of fine-tuning pretrained models, addressing small dataset limitations, and efficient embedding management. Future work involves expanding datasets, advanced training techniques, scalable cloud solutions, and enhancing user interfaces.\n",
    "\n",
    "This project demonstrates the potential of RAG systems in AI storytelling, highlighting current capabilities and future opportunities."
   ]
  },
  {
   "cell_type": "markdown",
   "id": "4ab5bb9d",
   "metadata": {},
   "source": [
    "# Table of Contents"
   ]
  },
  {
   "cell_type": "markdown",
   "id": "ad79ff0a",
   "metadata": {},
   "source": [
    "[**3. Introduction**](#Introduction)\n",
    "\n",
    "- [3.1 Background & Motivation](#Background-and-motivation)\n",
    "- [3.2 Objectives & Scope](#Objectives-and-scope)\n",
    "\n",
    "[**4. Methodology**](#Methodology)\n",
    "\n",
    "- [4.1 Data Collection](#Data-Collection)\n",
    "- [4.2 Tokenizer](#Tokenizer)\n",
    "- [4.3 Model Architecture](#Model-Architecture)\n",
    "- [4.4 Training Routine](#Training-Routine)\n",
    "- [4.5 Embedding Generation](#Embedding-Generation)\n",
    "- [4.6 Vector DB](#Vector-DB)\n",
    "- [4.7 Large Language Model](#LLM)\n",
    "- [4.8 Prompting](#Prompting)\n",
    "- [4.9 UI](#UI)\n",
    "\n",
    "\n",
    "[**5. Experiments & Results**](#Experiments-&-Results)\n",
    "\n",
    "- [5.1 TensorBoard](#Tensorboard-for-metric-follow-up)\n",
    "- [5.2 Custom BERT and challenges](#Custom-BERT-model-and-challenges)\n",
    "- [5.3 Transfer Learning](#Dataset-Issues-and-Transfer-Learning)\n",
    "- [5.4 Embedding representation results](#Embedding-representation-results)\n",
    "\n",
    "[**6. Conclusions**](#Conclusions-&-further-exploration)"
   ]
  },
  {
   "cell_type": "markdown",
   "id": "353c6455",
   "metadata": {},
   "source": [
    "# Introduction"
   ]
  },
  {
   "cell_type": "markdown",
   "id": "a0fd5dea",
   "metadata": {
    "heading_collapsed": true
   },
   "source": [
    "## Background and motivation"
   ]
  },
  {
   "cell_type": "markdown",
   "id": "85182b4a",
   "metadata": {
    "hidden": true
   },
   "source": [
    "Natural Language Processing (NLP) has come a long way with models like BERT, which help computers understand and generate human language more effectively. This progress opens up exciting possibilities for creating engaging and contextually rich stories.\n",
    "\n",
    "The idea for this project started from a personal experience within our team. One of us had a nephew who asked for a bedtime story about \"pirates in space.\" As Catalans who value storytelling but aren't all naturally imaginative, we struggled. Attempts to use existing generative models resulted in stories that missed the context and creativity the child wanted. This frustration highlighted a gap in current story generation tools.\n",
    "\n",
    "Motivated by this experience, we set out to create a better way to generate fairy tales that truly capture the magic and context of the themes kids ask for. We decided to train a BERT model specifically for this purpose and use a Retrieval-Augmented Generation (RAG) system. This way, when someone requests a story, the system can understand the request, find similar tales, and generate a new, engaging story.\n",
    "\n",
    "Our goal is to provide a tool that can make storytelling easier and more fun, ensuring that every story is as imaginative and contextually rich as the ones we cherish from our childhood."
   ]
  },
  {
   "cell_type": "markdown",
   "id": "b08226f2",
   "metadata": {},
   "source": [
    "## Objectives and scope"
   ]
  },
  {
   "cell_type": "markdown",
   "id": "8b184d4c",
   "metadata": {
    "heading_collapsed": true
   },
   "source": [
    "### Objectives"
   ]
  },
  {
   "cell_type": "markdown",
   "id": "8a5d04fb",
   "metadata": {
    "hidden": true
   },
   "source": [
    "The primary objective of this project is to develop an advanced story generation system that can create contextually rich and engaging fairy tales based on user input. \n",
    "\n",
    "In order to achieve this, we would divide our project into 3 different phases:\n",
    "\n",
    "![Phases of our project](initial_arquitecture.png)"
   ]
  },
  {
   "cell_type": "markdown",
   "id": "c4f35f89",
   "metadata": {
    "hidden": true
   },
   "source": [
    "These 3 phases have been further divided into more specific tasks:\n",
    "\n",
    "**Create a Custom Tokenizer**:\n",
    "\n",
    "- Develop a tokenizer specifically designed for our dataset of fairy tales to ensure accurate text processing.\n",
    "  \n",
    "**Train a BERT Model**: \n",
    "\n",
    "- Train a BERT model using the custom tokenizer and a diverse dataset of fairy tales to enable it to understand and generate narrative content effectively.\n",
    "\n",
    "**Implement a RAG System**: \n",
    "- Develop a system that integrates a vector database for storing embeddings of fairy tales and uses these embeddings to enhance the story generation process.\n",
    "\n",
    "**Generate Rich Fairy Tales**: \n",
    "- Use the embeddings retrieved from our database as context for an LLM to generate a more rich and engaging version of a fairy tale.\n",
    "\n",
    "**Evaluate the System**: \n",
    "- Assess the performance of the system through qualitative and quantitative metrics to ensure it meets the desired objectives."
   ]
  },
  {
   "cell_type": "markdown",
   "id": "7d8b975f",
   "metadata": {},
   "source": [
    "### Scope"
   ]
  },
  {
   "cell_type": "markdown",
   "id": "d51fcc0c",
   "metadata": {},
   "source": [
    "The scope of this project encompasses the following key areas:\n",
    "\n",
    "\n",
    "**Data Collection and Preprocessing:**\n",
    "\n",
    "- Collect a dataset of fairy tales for training the BERT model.\n",
    "- Preprocess the dataset to ensure it is suitable for training.\n",
    "\n",
    "**Tokenizer Development:**\n",
    "\n",
    "- Create a custom tokenizer tailored to the fairy tale dataset.\n",
    "\n",
    "**Model Training and Development:**\n",
    "\n",
    "- Train the BERT model on the collected dataset. We will do this by implementing:\n",
    "  - **MLM (Masked Language Model)**\n",
    "  - **NSP (Next Sentence Prediction)** tasks to fine-tune the model for narrative generation.\n",
    "\n",
    "**Embedding and Vector Database:**\n",
    "\n",
    "- Create embeddings of the fairy tales using the trained BERT model.\n",
    "- Store these embeddings in a vector database to facilitate efficient retrieval.\n",
    "\n",
    "**Retrieval-Augmented Generation System:**\n",
    "\n",
    "- Develop the retrieval mechanism using cosine similarity to find relevant story contexts.\n",
    "- Integrate the retrieval system with a language model to generate new stories based on user input.\n",
    "\n",
    "**System Evaluation:**\n",
    "\n",
    "- Conduct experiments to evaluate the retrieval accuracy and the quality of the generated stories.\n",
    "\n",
    "**User Interface:**\n",
    "\n",
    "- Design a user-friendly interface where users can input their story requests and receive generated stories.\n"
   ]
  },
  {
   "cell_type": "markdown",
   "id": "2156db34",
   "metadata": {},
   "source": [
    "# Methodology"
   ]
  },
  {
   "cell_type": "markdown",
   "id": "c92272ed",
   "metadata": {
    "heading_collapsed": true
   },
   "source": [
    "### Data Collection"
   ]
  },
  {
   "cell_type": "markdown",
   "id": "473eef11",
   "metadata": {
    "hidden": true
   },
   "source": [
    "**Data Gathering**\n",
    "\n",
    "To develop an advanced story generation system, we needed a robust and diverse dataset of fairy tales. Our data collection process involved multiple sources to ensure a comprehensive dataset. Here’s how we approached it:\n",
    "\n",
    "1. **Kaggle**: We found several relevant datasets on Kaggle, including:\n",
    "   - [Grimm’s Fairy Tales](https://www.kaggle.com/datasets/tschomacker/grimms-fairy-tales)\n",
    "   - [Grimms' Brother Fairy Tale Dataset](https://www.kaggle.com/datasets/cornellius/grimms-brother-fairy-tale-dataset)\n",
    "\n",
    "2. **Hugging Face**: We utilized datasets from Hugging Face, such as:\n",
    "   - [FairytaleQA Dataset](https://huggingface.co/datasets/WorkInTheDark/FairytaleQA)\n",
    "   - [FairyTales Dataset](https://huggingface.co/datasets/KyiThinNu/FairyTales)\n",
    "\n",
    "3. **GitHub**: We accessed the FairytaleQA dataset from GitHub:\n",
    "   - [FairytaleQAData](https://github.com/uci-soe/FairytaleQAData/tree/main)\n",
    "\n",
    "4. **Web Scraping**: To supplement the datasets, we performed web scraping on various websites dedicated to fairy tales, including:\n",
    "   - [Dream Little Star](https://dreamlittlestar.com/)\n",
    "   - [Read the Tale](https://www.readthetale.com/)\n",
    "\n",
    "We used web scraping tools and techniques to extract text data from these sources, carefully handling HTML parsing and cleaning the text to make it suitable for training.\n",
    "\n",
    "By combining datasets from these sources, we compiled a rich and diverse collection of fairy tales. This dataset was then preprocessed to remove any inconsistencies and ensure it was ready for training our BERT model.\n",
    "\n",
    "#### Dataset Analysis\n",
    "\n",
    "To better understand the characteristics of our dataset, we performed a detailed analysis, including visualizations such as histograms. Below are some of the key insights:\n",
    "\n",
    "- **Story Length Distribution**: The histogram below shows the distribution of story lengths in the dataset.\n",
    "\n",
    "![Story Length Distribution](imagen3.png)\n",
    "\n",
    "- **Vocabulary Size**: The histogram below represents the distribution of vocabulary sizes across different stories.\n",
    "\n",
    "![Vocabulary Size Distribution](imagen2.png)\n",
    "\n",
    "- **Average Sentence Length**: The histogram below shows the distribution of average sentence lengths in the dataset.\n",
    "\n",
    "![Average Sentence Length](imagen1.png)\n",
    "\n",
    "These analyses helped us to understand the dataset better and guided our preprocessing and model training steps.\n",
    "\n",
    "#### Dataset Metrics\n",
    "\n",
    "For training and validating our model, we have gathered a total of 1,183 fairy tales. Here are some key metrics of our dataset:\n",
    "\n",
    "- **Total Sentences**: 128,541 sentences\n",
    "- **Mean Sentences per Story**: 114 sentences\n",
    "- **Total Words**: 2,631,859 words\n"
   ]
  },
  {
   "cell_type": "markdown",
   "id": "4a0c0847",
   "metadata": {
    "heading_collapsed": true
   },
   "source": [
    "### Tokenizer"
   ]
  },
  {
   "cell_type": "markdown",
   "id": "f0c7f92e",
   "metadata": {
    "hidden": true
   },
   "source": [
    "**Byte-Pair Encoding (BPE) Tokenizer**\n",
    "\n",
    "Initially, our team developed a Byte-Pair Encoding (BPE) tokenizer to process the fairy tales. BPE tokenization involves merging the most frequent pairs of characters or subwords iteratively until a specified vocabulary size is reached. This method helps in efficiently encoding words and subwords, which is beneficial for the training of our BERT model.\n",
    "\n",
    "**Key steps in our BPE tokenizer implementation:**\n",
    "1. **Initialization**: Define the number of merges (iterations) for the tokenization process.\n",
    "2. **Vocabulary Creation**: Split words into characters and calculate the frequency of each pair of characters.\n",
    "3. **Pair Merging**: Iteratively merge the most frequent pairs of characters to create subwords."
   ]
  },
  {
   "cell_type": "markdown",
   "id": "54d2287d",
   "metadata": {
    "hidden": true
   },
   "source": [
    "```python\n",
    "for _ in range(self.num_merges):\n",
    "    pairs = defaultdict(int)\n",
    "    for word, freq in vocab.items():\n",
    "        symbols = word.split()\n",
    "        for i in range(len(symbols) - 1):\n",
    "            pairs[(symbols[i], symbols[i + 1])] += freq\n",
    "    best_pair = max(pairs, key=pairs.get)\n",
    "    new_symbol = ''.join(best_pair)\n",
    "    new_vocab = defaultdict(int)\n",
    "    for word in vocab:\n",
    "        new_word = word.replace(' '.join(best_pair), new_symbol)\n",
    "        new_vocab[new_word] += vocab[word]\n",
    "    vocab = new_vocab\n",
    "```"
   ]
  },
  {
   "cell_type": "markdown",
   "id": "e1577ef2",
   "metadata": {
    "hidden": true
   },
   "source": [
    "**WordPiece Tokenizer**\n",
    "\n",
    "After experimenting with the BPE tokenizer, we discovered that the WordPiece tokenizer provided better performance for our task. The WordPiece tokenizer iteratively builds the vocabulary by considering the most frequent subword pairs, similar to BPE, but with additional handling for character-level tokens.\n",
    "\n",
    "**Key advantages of the WordPiece tokenizer:**\n",
    "1. **Efficiency in handling rare words**: The WordPiece tokenizer can break down rare words into subwords more effectively, improving the model's ability to generalize.\n",
    "2. **Handling of special characters**: The tokenizer includes special tokens for punctuation, spaces, and other characters, enhancing its ability to process diverse text formats.\n",
    "\n",
    "**Key steps in our WordPiece tokenizer implementation:**\n",
    "1. **Initialization**: Define the vocabulary size and special tokens.\n",
    "2. **Word Frequency Calculation**: Count the frequency of words and characters in the text.\n",
    "3. **Vocabulary Building**: Iteratively merge the most frequent pairs to form subwords and build the vocabulary.\n"
   ]
  },
  {
   "cell_type": "markdown",
   "id": "d9d7563d",
   "metadata": {
    "hidden": true
   },
   "source": [
    "```python\n",
    "while len(self.vocab) < self.vocab_size:\n",
    "scores = self._compute_pair_scores(splits)\n",
    "best_pair = max(scores, key=scores.get)\n",
    "splits = self._merge_pair(*best_pair, splits)\n",
    "new_token = best_pair[0] + best_pair[1][2:] if best_pair[1].startswith(\"##\") else best_pair[0] + best_pair[1]\n",
    "self.vocab.append(new_token)\n",
    "```"
   ]
  },
  {
   "cell_type": "markdown",
   "id": "9689c4f9",
   "metadata": {
    "hidden": true
   },
   "source": [
    "**Conclusion: WordPiece Tokenizer > BPE Tokenizer**\n",
    "\n",
    "We opted for the WordPiece tokenizer over the Byte-Pair Encoding (BPE) tokenizer for several key reasons:\n",
    "\n",
    "##### Key Differences\n",
    "\n",
    "1. **Handling Rare Words**:\n",
    "   - **BPE**: Less effective at handling rare words due to its frequency-based merges.\n",
    "   - **WordPiece**: Breaks down rare words into smaller, meaningful subwords, improving generalization.\n",
    "\n",
    "2. **Special Characters**:\n",
    "   - **BPE**: Lacks explicit handling of special characters.\n",
    "   - **WordPiece**: Includes special tokens for punctuation and spaces, providing accurate text representation.\n",
    "\n",
    "3. **Vocabulary Efficiency**:\n",
    "   - **BPE**: Fixed number of merges can lead to suboptimal vocabulary size.\n",
    "   - **WordPiece**: Dynamically builds a balanced and efficient vocabulary.\n",
    "\n",
    "4. **Contextual Understanding**:\n",
    "   - **BPE**: May miss contextual nuances in narrative text.\n",
    "   - **WordPiece**: Better contextual understanding due to granular word breakdown and handling of special characters.\n",
    "\n",
    "\n",
    "The WordPiece tokenizer demonstrated superior performance in handling rare words, special characters, and providing efficient, contextually aware tokenization. These advantages make it the optimal choice for processing our fairy tale dataset and generating rich, engaging stories.\n"
   ]
  },
  {
   "cell_type": "markdown",
   "id": "8bdc75eb",
   "metadata": {
    "hidden": true
   },
   "source": [
    "**Tokenizer Output**\n",
    "\n",
    "Specifically, our final tokenizer outputs the following information:\n",
    "\n",
    "- **Token IDs**: Each token in the text is mapped to a unique integer ID from the vocabulary.\n",
    "- **Special Tokens**: These are tokens added to the text to provide additional information about the structure of the input.\n",
    "  - **[CLS]**: Added at the beginning of the text. Represents the entire input sequence and its embedding is used for classification tasks.\n",
    "  - **[SEP]**: Separates different parts of the input (e.g., question and answer, two sentences). For single sequences, it is added at the end.\n",
    "  - **[PAD]**: Used to pad sequences to the same length within a batch.\n",
    "- **Attention Mask**: Indicates which tokens should be attended to and which should be ignored (due to padding).\n",
    "- **Token Type IDs**: Identifies different segments in the input. For single sequences, all values are typically 0. For paired sequences, the first sequence might have all 0s and the second sequence all 1s.\n"
   ]
  },
  {
   "cell_type": "markdown",
   "id": "145f6e73",
   "metadata": {
    "heading_collapsed": true
   },
   "source": [
    "### Model Architecture"
   ]
  },
  {
   "cell_type": "markdown",
   "id": "bc394225",
   "metadata": {
    "heading_collapsed": true,
    "hidden": true
   },
   "source": [
    "#### Custom BERT"
   ]
  },
  {
   "cell_type": "markdown",
   "id": "93818327",
   "metadata": {
    "heading_collapsed": true,
    "hidden": true
   },
   "source": [
    "##### Visual Summary"
   ]
  },
  {
   "cell_type": "markdown",
   "id": "d9b0c317",
   "metadata": {
    "hidden": true
   },
   "source": [
    "Here's the image illustrating the BERT model architecture:\n",
    "\n",
    "![Model Architecture](bert_model.png)\n",
    "\n",
    "Follow this section for specific explanations on every section"
   ]
  },
  {
   "cell_type": "markdown",
   "id": "7fff3232",
   "metadata": {
    "heading_collapsed": true,
    "hidden": true
   },
   "source": [
    "##### Input of our model"
   ]
  },
  {
   "cell_type": "markdown",
   "id": "d6366646",
   "metadata": {
    "hidden": true
   },
   "source": [
    "1. **Tokenizer Output**\n",
    "\n",
    "**Components**:\n",
    "- **Input IDs**: Unique integer IDs for each token in the text.\n",
    "- **Attention Mask**: Indicates which tokens should be attended to (1) and which should be ignored (0) due to padding.\n",
    "- **Segment IDs**: Identifies different segments in the input. For single sequences, all values are typically 0. For paired sequences, the first sequence might have all 0s and the second sequence all 1s.\n"
   ]
  },
  {
   "cell_type": "markdown",
   "id": "76bd3c8d",
   "metadata": {
    "heading_collapsed": true,
    "hidden": true
   },
   "source": [
    "##### Embedding Layer"
   ]
  },
  {
   "cell_type": "markdown",
   "id": "078a672e",
   "metadata": {
    "hidden": true
   },
   "source": [
    "The embedding layer converts input tokens into dense vectors.\n",
    "\n",
    "```python\n",
    "class EmbeddingLayer(nn.Module):\n",
    "    def __init__(self, vocab_size, embed_size, seq_len=64, dropout=0.1):\n",
    "        super(EmbeddingLayer, self).__init__()\n",
    "        self.token_embeddings = nn.Embedding(vocab_size, embed_size, padding_idx=0)\n",
    "        self.segment_embeddings = nn.Embedding(3, embed_size, padding_idx=0)\n",
    "        self.position_embeddings = PositionalEmbedding(d_model=embed_size, max_len=seq_len)\n",
    "        self.dropout = nn.Dropout(p=dropout)\n",
    "       \n",
    "    def forward(self, input_ids, segment_ids):        \n",
    "        x = self.token_embeddings(input_ids) + self.position_embeddings(input_ids) + self.segment_embeddings(segment_ids)\n",
    "        x = self.dropout(x)\n",
    "        return x\n",
    "```"
   ]
  },
  {
   "cell_type": "markdown",
   "id": "9f4c19a2",
   "metadata": {
    "hidden": true
   },
   "source": [
    "**Key Steps:**\n",
    "\n",
    "- Convert token IDs to embeddings.\n",
    "- Add positional embeddings to encode the position of each token. (See next section)\n",
    "- Add segment embeddings to differentiate between different segments of input.\n",
    "- Apply dropout for regularization."
   ]
  },
  {
   "cell_type": "markdown",
   "id": "e0f182bc",
   "metadata": {
    "heading_collapsed": true,
    "hidden": true
   },
   "source": [
    "##### Positional Encoding"
   ]
  },
  {
   "cell_type": "markdown",
   "id": "29c7ec78",
   "metadata": {
    "hidden": true
   },
   "source": [
    "3. **Positional Encoding**\n",
    "\n",
    "Adds positional information to the embeddings to ensure the model understands the order of tokens.\n",
    "\n",
    "```python\n",
    "class PositionalEmbedding(torch.nn.Module):\n",
    "    def __init__(self, d_model, max_len=128):\n",
    "        super().__init__()\n",
    "        pe = torch.zeros(max_len, d_model).float()\n",
    "        pe.require_grad = False\n",
    "        for pos in range(max_len):\n",
    "            for i in range(0, d_model, 2):\n",
    "                pe[pos, i] = math.sin(pos / (10000 ** ((2 * i)/d_model)))\n",
    "                pe[pos, i + 1] = math.cos(pos / (10000 ** ((2 * (i + 1))/d_model)))\n",
    "        self.pe = pe.unsqueeze(0)\n",
    "    \n",
    "    def forward(self, x):\n",
    "        return self.pe\n",
    "```"
   ]
  },
  {
   "cell_type": "markdown",
   "id": "6603a6e7",
   "metadata": {
    "heading_collapsed": true,
    "hidden": true
   },
   "source": [
    "##### Transformer Encoder Block"
   ]
  },
  {
   "cell_type": "markdown",
   "id": "04725ab2",
   "metadata": {
    "hidden": true
   },
   "source": [
    "4. **Transformer Encoder Blocks**\n",
    "\n",
    "Consists of multiple encoder layers that apply self-attention mechanisms and feed-forward networks.\n",
    "\n",
    "```python\n",
    "class EncoderLayer(torch.nn.Module):\n",
    "    def __init__(self, d_model=768, heads=12, feed_forward_hidden=768 * 4, dropout=0.1):\n",
    "        super(EncoderLayer, self).__init__()\n",
    "        self.layernorm = torch.nn.LayerNorm(d_model)\n",
    "        self.self_multihead = MultiHeadedAttention(heads, d_model)\n",
    "        self.feed_forward = FeedForward(d_model, middle_dim=feed_forward_hidden)\n",
    "        self.dropout = torch.nn.Dropout(dropout)\n",
    "\n",
    "    def forward(self, embeddings, mask):\n",
    "        interacted = self.dropout(self.self_multihead(embeddings, embeddings, embeddings, mask))\n",
    "        interacted = self.layernorm(interacted + embeddings)\n",
    "        feed_forward_out = self.dropout(self.feed_forward(interacted))\n",
    "        encoded = self.layernorm(feed_forward_out + interacted)\n",
    "        return encoded\n",
    "```"
   ]
  },
  {
   "cell_type": "markdown",
   "id": "62aa42a1",
   "metadata": {
    "hidden": true
   },
   "source": [
    "**Key Steps:**\n",
    "\n",
    " - **Self-Attention:** Allows the model to focus on different parts of the input sequence.\n",
    " - **Feed-Forward Network:** Applies a fully connected feed-forward network to each token.\n",
    " - **Layer Normalization and Dropout:** Normalizes the output and applies dropout for regularization."
   ]
  },
  {
   "cell_type": "markdown",
   "id": "26962019",
   "metadata": {
    "heading_collapsed": true,
    "hidden": true
   },
   "source": [
    "##### Training Tasks"
   ]
  },
  {
   "cell_type": "markdown",
   "id": "6d9028d5",
   "metadata": {
    "hidden": true
   },
   "source": [
    "**Explanation of our training tasks:**\n",
    "- For our **MLM task**, our goal is to predict some tokens that we have previously masked\n",
    "- For our **NSP task**, we will try to predict whether the second sentence of our input is the following sentence of our dataset\n",
    "    "
   ]
  },
  {
   "cell_type": "markdown",
   "id": "2e833356",
   "metadata": {
    "hidden": true
   },
   "source": [
    "**MLM: Masked Language Model**\n",
    "\n",
    "To perform this task during training, some tokens from the input are initially selected at random to be masked. The selected positions are replaced with a special token (MASK). In our case, we decided to mask 15% of meaningful tokens (CLS, SEP and padding tokens are not masked) Then, the model will be trained to predict the correct tokens that occupied the positions presenting a MASK token."
   ]
  },
  {
   "cell_type": "markdown",
   "id": "da0612d1",
   "metadata": {
    "hidden": true
   },
   "source": [
    "```python\n",
    "class MaskedLanguageModel(nn.Module):\n",
    "    def __init__(self, hidden, vocab_size):\n",
    "        super().__init__()\n",
    "        self.linear = nn.Linear(hidden, vocab_size)\n",
    "        self.softmax = nn.LogSoftmax(dim=-1)\n",
    "    \n",
    "    def forward(self, input):\n",
    "        x = self.linear(input)\n",
    "        x = self.softmax(x)\n",
    "        return x\n",
    "```"
   ]
  },
  {
   "cell_type": "markdown",
   "id": "255ff56a",
   "metadata": {
    "hidden": true
   },
   "source": [
    "**Key Steps:**\n",
    "- Use a linear followed by a softmax\n",
    "- Use a linear followed by a softmax with an input size as the total number of tokens in our vocabulary"
   ]
  },
  {
   "cell_type": "markdown",
   "id": "19bff412",
   "metadata": {
    "hidden": true
   },
   "source": [
    "**NSP: Next sentence Predict**\n",
    "\n",
    "The next sentence prediction (NLP) task is based on building an input composed of two sentences, which are separated using a SEP token after tokenizing. The second sentence is selected in two ways: either by taking the sentence that follows the first sentence (in a text, if the first sentence is text[0], the second sentence would be text[1]), or by randomly sampling another sentence that doesn't fulfill the previous condition. Then, when training the model to perform the NLP task, it needs to differentiate if the input's two sentences are contiguous or not."
   ]
  },
  {
   "cell_type": "markdown",
   "id": "055607d5",
   "metadata": {
    "hidden": true
   },
   "source": [
    "```python\n",
    "class NextSentencePrediction(nn.Module):\n",
    "    def __init__(self, hidden):\n",
    "        super().__init__()\n",
    "        self.linear = nn.Linear(hidden, 2)\n",
    "        self.softmax = nn.LogSoftmax(dim=-1)\n",
    "    \n",
    "    def forward(self, input):\n",
    "        x = input[:, 0]\n",
    "        x = self.linear(x)\n",
    "        x = self.softmax(x)\n",
    "        return x\n",
    "```    "
   ]
  },
  {
   "cell_type": "markdown",
   "id": "daf263b6",
   "metadata": {
    "hidden": true
   },
   "source": [
    "**Key Steps:**\n",
    "- Use only the first token ([CLS]) to predict if the next sentence follows.\n",
    "- Apply a linear layer followed by a softmax for classification."
   ]
  },
  {
   "cell_type": "markdown",
   "id": "51947964",
   "metadata": {
    "heading_collapsed": true,
    "hidden": true
   },
   "source": [
    "#### Transfer Learning with DistilBERT"
   ]
  },
  {
   "cell_type": "markdown",
   "id": "afed35ed",
   "metadata": {
    "hidden": true
   },
   "source": [
    "As a second approach for building a model that generates coherent embeddings, we opted for fine-tuning a pretrained DistilBERT model. DistilBERT is a transformer model based on the already described BERT architecture, but containing 40% less parameters. The DistilBERT base model training uses knowledge distillation, which compresses a larger model known as teacher (in this case BERT) into a smaller model called student (in this case DistilBERT). Further information can be found [here](https://arxiv.org/abs/1910.01108).\n",
    "\n",
    "In the context of our project, the pretrained DistilBERT model was imported from [huggingface](https://huggingface.co/distilbert/distilbert-base-uncased). This model was originally trained using the BookCorpus and English Wikipedia datasets to perform the same objective tasks as we described previously: masked language modelling and next sentence prediction. The DistilBERT model's follows a practically identical architecture as the one previously described for the developed custom BERT model. In this case, however, the model contains 6 transformer encoder blocks.\n",
    "\n",
    "To build and train our DistilBERT model, we performed transfer learning from a trained DistilBERT model in order to start our training routine with a model with pretrained weights in all of its blocks (embedding layer, transformer encoder blocks, MLM head block and NSP head block). We then kept frozen all model weights but the ones belonging to the last transformer encoder, MLM head and NSP head blocks. This way, the training process is simplified since the number of trainable weights is drastically reduced, while keeping unmodified the weights transfered from a more extensive pretraining process. \n",
    "Last but not least, in order to use the pretrained model, the specific Distilbert pretrained tokenizer (with a vocabulary size of 30522 tokens) was used to process and tokenize our dataset."
   ]
  },
  {
   "cell_type": "markdown",
   "id": "7af35ebf",
   "metadata": {
    "hidden": true
   },
   "source": [
    "```python\n",
    "\n",
    "class BERT_TL(nn.Module):\n",
    "    \"\"\"\n",
    "    BERT Language Model - Fine-tuning DistilBERT\n",
    "    Next Sentence Prediction Model + Masked Language Model\n",
    "    Separated to be able to do inference to the main model\n",
    "    \"\"\"\n",
    "\n",
    "    def __init__(self):\n",
    "        \"\"\"\n",
    "        :param bert: BERT model which should be trained\n",
    "        :param vocab_size: total vocab size for masked_lm\n",
    "        \"\"\"\n",
    "        super().__init__()\n",
    "        model_MLM = DistilBertForMaskedLM.from_pretrained(\"distilbert-base-uncased\")\n",
    "        model_NSP = DistilBertForSequenceClassification.from_pretrained(\"distilbert-base-uncased\")\n",
    "\n",
    "        self.bert = model_MLM.distilbert\n",
    "        for param in self.bert.parameters(): # we just keep unfrozen the last encoder block\n",
    "            param.requires_grad = False\n",
    "        for param in self.bert.transformer.layer[-1].parameters():\n",
    "            param.requires_grad = True\n",
    "\n",
    "        self.next_sentence = nn.Sequential(model_NSP.pre_classifier,model_NSP.classifier) \n",
    "        self.mask_lm = nn.Sequential(model_MLM.vocab_transform,model_MLM.vocab_layer_norm, model_MLM.vocab_projector,nn.LogSoftmax(dim=-1))\n",
    "````"
   ]
  },
  {
   "cell_type": "markdown",
   "id": "3105c7c0",
   "metadata": {
    "heading_collapsed": true
   },
   "source": [
    "### Training Routine"
   ]
  },
  {
   "cell_type": "markdown",
   "id": "1de675df",
   "metadata": {
    "heading_collapsed": true,
    "hidden": true
   },
   "source": [
    "#### Dataset split for training, validating and testing"
   ]
  },
  {
   "cell_type": "markdown",
   "id": "52598091",
   "metadata": {
    "hidden": true,
    "vscode": {
     "languageId": "plaintext"
    }
   },
   "source": [
    "The built dataset was split into three subsets in order to generate a train set, which will be used to compute the loss during the training step and update the model's weights through backpropagation; a validation set, which will be used to evaluate the model during training and adjust different hyperparameters correctly; and a test set, which is used to evaluate the model's generalization capabilities after performing all training steps. These splits were performed at a \"text\" level to avoid introducing sentences coming from the same text in different subsets, which in our case is key to obtain independent splits for performing each of the aforementioned tasks.\n",
    "\n",
    "We performed a train-validation-test split of 80%-10%-10%. The main statistics of each subset are described in the table below:\n",
    "| Subset |Number of texts | Number of sentences |\n",
    "|----------|----------|----------|\n",
    "| **Train set**   | 894   | 107326|\n",
    "| **Validation set**   | 112  |12992 |\n",
    "| **Test set**   | 112   |10938 |\n",
    "\n",
    "To ensure that each subset was representative of the whole dataset, we also compared how distributions of different parameters of each subset were similar with respect to the complete dataset. The results of these tests can be found in the following figure:\n",
    "\n",
    "![Subset splits](split.png)\n"
   ]
  },
  {
   "cell_type": "markdown",
   "id": "8e190a9c",
   "metadata": {
    "hidden": true
   },
   "source": [
    "#### Hyperparameters and training methods"
   ]
  },
  {
   "cell_type": "markdown",
   "id": "adee1a9d",
   "metadata": {
    "heading_collapsed": true,
    "hidden": true
   },
   "source": [
    "##### Learning rate scheduler"
   ]
  },
  {
   "cell_type": "markdown",
   "id": "412d474b",
   "metadata": {
    "hidden": true
   },
   "source": [
    "\n",
    "During the developed training routine for our model we decided to use a learning rate scheduler, which is a mechanism used for adjusting the learning rate value during the training process. The learning rate determines the size of the steps the optimization algorithm takes when updating the model's weights. Proper adjustment of the learning rate is crucial because it can significantly affect the training dynamics and the performance of the model. There are several functions that can be used for updating the learning rate (such as step decay, exponential decay, reduce on plateau or cosine annealing, to name a few). \n",
    "\n",
    "In our case, since we wanted to start by using a higher learning rate value for an initial adjustment of the model weights and then find the optimal weights using a learning rate with a lower value, we decided to initially increase by a linear factor the learning rate during a fixed number of warm up steps, and then use an exponential decay scheduler until reaching the final learning rate fixed value. Thus, both the number of warm up steps and the final learning rate value were hyperparameters that needed to be adjusted. In the figure below it is shown an example of the implemented learning rate scheduler.\n",
    "\n",
    "<img src=\"learning_Rate_scheduler.png\" alt=\"drawing\" width=\"500\" height=\"400\"/>\n"
   ]
  },
  {
   "cell_type": "markdown",
   "id": "0914ff8d",
   "metadata": {
    "heading_collapsed": true,
    "hidden": true
   },
   "source": [
    "##### Dropout\n",
    "\n",
    "When building a model's architecture, a dropout layer can be introduced as a regularization technique to prevent overfitting and improve generalization. The dropout layer is parametrized using a dropout rate, which dictates the probability that a given neuron's outputs are set to zero and do not participate in the neither forward nor backward passes.\n",
    "\n",
    "With this objective in mind, we decided to introduce a dropout layer with a dropout rate of 0.1 in the embedding layer of our custom model. Although the dropout rate of this layer can be considered a hyperparameter to fine tune, we decided to keep it as a constant feature for all tests performed in order to reduce our hyperparameter dimensionality."
   ]
  },
  {
   "cell_type": "markdown",
   "id": "9990bee7",
   "metadata": {
    "heading_collapsed": true,
    "hidden": true
   },
   "source": [
    "##### Loss functions"
   ]
  },
  {
   "cell_type": "markdown",
   "id": "7bf3a0c7",
   "metadata": {
    "hidden": true
   },
   "source": [
    "As it was previously explained, training our BERT model implies performing two independent tasks: predicting the correct token for each masked one in the MLM head; and predicting if the second sentence of our input is the following sentence of the same text in the NSP head. In essence, both of them are classification tasks. As such, we will need to use an individual loss function that is able to compare the predicted value of each head with its true value, and then add both values to compute the total loss for a given batch of samples: $$ Loss = Loss_{MLM} + Loss_{NSP} $$\n",
    "\n",
    "For training the custom BERT model, we decided to use negative log-likelihood loss for evaluating both MLM and NSP tasks. This is why we use a logarithmic softmax as our final activation function for both heads. On the other hand, for fine-tuning the pretrained DistilBERT we used two different loss functions: the MLM task was evaluated using the log-likelihood loss, while the NSP task was assessed using the cross-entropy loss. This change was motivated since the latter loss function was used for evaluating the NSP task in the original training of DistilBERT."
   ]
  },
  {
   "cell_type": "markdown",
   "id": "2e97a2d6",
   "metadata": {
    "heading_collapsed": true,
    "hidden": true
   },
   "source": [
    "##### Batch size and gradient accumulation"
   ]
  },
  {
   "cell_type": "markdown",
   "id": "e2ec4cf2",
   "metadata": {
    "hidden": true
   },
   "source": [
    "When building each batch during each training step, either train or validation batch, a single masked sentence pair for each text is introduced (until fulfilling the batch size). This ensures that all items in a batch originally come from different texts. The batch size was set as a hyperparameter so as to handle local resources constraints and have a balance between training speed, stability and convergence.\n",
    "\n",
    "On the other hand, we introduced gradient accumulation during training. Gradient accumulation is used to effectively increase the batch size without requiring more resources than available. When using this method, the gradient is accumulated over multiple mini-batches before updating the weights through backpropagation, simulating a larger batch size."
   ]
  },
  {
   "cell_type": "markdown",
   "id": "c1dc65af",
   "metadata": {
    "heading_collapsed": true,
    "hidden": true
   },
   "source": [
    "##### Optimizer"
   ]
  },
  {
   "cell_type": "markdown",
   "id": "a4995073",
   "metadata": {
    "hidden": true
   },
   "source": [
    "The optimizer can be described as the method used to adjust the weights of the neural network in order to minimize the loss function during training. In our case, we decided to use the Adam algorithm with a fixed value for the betas coefficients of (0.9, 0.999) and weight decay of 0.01 for all experiments, while the learning rate was adjusted as a hyperparameter."
   ]
  },
  {
   "cell_type": "markdown",
   "id": "caa322fd",
   "metadata": {
    "heading_collapsed": true,
    "hidden": true
   },
   "source": [
    "##### Early stopper"
   ]
  },
  {
   "cell_type": "markdown",
   "id": "752581b1",
   "metadata": {
    "hidden": true
   },
   "source": [
    "In order to avoid overfitting and diminishing the validation set performance during training, we decided to implement an early stopper function as a regularization method. In essence, during each epoch the early stopper checks if the validation loss is higher than the one in the best performing epoch. If this condition is fulfilled, the best performing epoch is updated and the training routine continues as scheduled. On the other hand, if the current epoch's validation performance is lower than the best observed so far, the training is stopped if the performance has not improve for a specific number of epochs (patience). The patience parameter was set to 10 epochs. \n",
    "\n",
    "```python\n",
    "class EarlyStopper:\n",
    "    def __init__(self, patience=1, min_delta=0):\n",
    "        self.patience = patience\n",
    "        self.min_delta = min_delta\n",
    "        self.counter = 0\n",
    "        self.min_validation_loss = float('inf')\n",
    "\n",
    "    def early_stop(self, validation_loss):\n",
    "        if validation_loss < self.min_validation_loss:\n",
    "            self.min_validation_loss = validation_loss\n",
    "            self.counter = 0\n",
    "        elif validation_loss > (self.min_validation_loss + self.min_delta):\n",
    "            self.counter += 1\n",
    "            print('*')\n",
    "            if self.counter >= self.patience:\n",
    "                return True\n",
    "        return False\n",
    "```\n"
   ]
  },
  {
   "cell_type": "markdown",
   "id": "f4e9411c",
   "metadata": {
    "heading_collapsed": true
   },
   "source": [
    "### Embedding Generation"
   ]
  },
  {
   "cell_type": "markdown",
   "id": "38b2bd0d",
   "metadata": {
    "heading_collapsed": true,
    "hidden": true
   },
   "source": [
    "#### Custom BERT"
   ]
  },
  {
   "cell_type": "markdown",
   "id": "88274163",
   "metadata": {
    "hidden": true
   },
   "source": [
    "**Inference and Embedding Generation**\n",
    "\n",
    "During inference, we use the BERT model **without** the **Next Sentence Prediction (NSP)** and **Masked Language Model (MLM)** tasks. Instead, we focus on generating meaningful embeddings for our fairy tale dataset. These embeddings capture the contextual information of the input text, which is crucial for our RAG system.\n",
    "\n",
    "**Embedding Generation:**\n",
    "- The BERT model's embedding layer and encoder layers are used to transform input text into dense vector representations.\n",
    "- These embeddings encapsulate the semantic meaning and context of the input text."
   ]
  },
  {
   "cell_type": "markdown",
   "id": "35a1fb91",
   "metadata": {
    "hidden": true
   },
   "source": [
    "**Visual Summary**\n",
    "Here's the image illustrating the BERT model architecture:\n",
    "\n",
    "![Model Architecture](bert_inf.png)"
   ]
  },
  {
   "cell_type": "markdown",
   "id": "64fd92f9",
   "metadata": {
    "hidden": true
   },
   "source": [
    "```python\n",
    "class BERT(nn.Module):\n",
    "    def __init__(self, vocab_size, seq_len=512, d_model=768, n_layers=12, heads=12, dropout=0.1):\n",
    "        super().__init__()\n",
    "        self.d_model = d_model\n",
    "        self.n_layers = n_layers\n",
    "        self.heads = heads\n",
    "        self.feed_forward_hidden = d_model * 4\n",
    "        self.embedding = EmbeddingLayer(vocab_size=vocab_size, embed_size=d_model, seq_len=seq_len, dropout=dropout)\n",
    "        self.encoder_blocks = nn.ModuleList(\n",
    "            [EncoderLayer(d_model, heads, d_model * 4, dropout) for _ in range(n_layers)])\n",
    "    \n",
    "    def forward(self, x, segment_info):\n",
    "        mask = (x > 0).unsqueeze(1).repeat(1, x.size(1), 1).unsqueeze(1)\n",
    "        x = self.embedding(x, segment_info)\n",
    "        for encoder in self.encoder_blocks:\n",
    "            x = encoder.forward(x, mask)\n",
    "        return x\n",
    "```"
   ]
  },
  {
   "cell_type": "markdown",
   "id": "44317b24",
   "metadata": {
    "hidden": true
   },
   "source": [
    "#### Transfer Learning with DistilBERT"
   ]
  },
  {
   "cell_type": "markdown",
   "id": "c146bb16",
   "metadata": {
    "hidden": true
   },
   "source": [
    "In a similar fashion as if has previously described for the Custom BERT, performing inference in the DistilBERT after training the model implies obtaining the embedding representation generated after processing the input through the embedding layer and the whole encoder set of blocks, without using neither the MLM nor NSP heads. As a post-processing step, the input's final representation it has been tested to be either the embedding of the CLS token (first input's token) or the mean value over all input's tokens. This processing is done in order to have an embedding that can semantically represent the whole input. Details of this test can be found in section [5.3](#Description-of-the-experiments-performed).\n",
    "\n",
    "```python\n",
    "class BERT_TL(nn.Module):\n",
    "    \"\"\"\n",
    "    BERT Language Model - Fine-tuning DistilBERT\n",
    "    Next Sentence Prediction Model + Masked Language Model\n",
    "    Separated to be able to do inference to the main model\n",
    "    \"\"\"\n",
    "    def forward(self, x, segment_label):\n",
    "        x = self.bert(x, segment_label)[0]\n",
    "        pooled_output = torch.mean(x, dim=1) # Mean pooling\n",
    "\n",
    "        if self.is_inference:\n",
    "            return pooled_output\n",
    "        \n",
    "        nsp_output = self.next_sentence(pooled_output) \n",
    "        mlm_output = self.mask_lm(x)\n",
    "\n",
    "        return nsp_output, mlm_output\n",
    "\n",
    "```"
   ]
  },
  {
   "cell_type": "markdown",
   "id": "fbc79df0",
   "metadata": {},
   "source": [
    "### Vector DB"
   ]
  },
  {
   "cell_type": "markdown",
   "id": "c87b2828",
   "metadata": {},
   "source": [
    "Our project involved creating an embedding database for storing and querying sentence embeddings generated by a BERT model. We experimented with two different solutions: **Chroma DB** and **Zilliz**. Below are the key steps involved in each implementation and the reasoning behind our final choice."
   ]
  },
  {
   "cell_type": "markdown",
   "id": "55b12ee4",
   "metadata": {
    "heading_collapsed": true
   },
   "source": [
    "#### Chroma DB"
   ]
  },
  {
   "cell_type": "markdown",
   "id": "05ad3826",
   "metadata": {
    "hidden": true
   },
   "source": [
    "**Key Steps:**\n",
    "1. **Initialization:**\n",
    "   - Set up paths for the model, tokenizer, and CSV file containing the sentences.\n",
    "   - Initialize the ChromaDB client with a persistent storage path.\n",
    "\n",
    "2. **Model and Tokenizer Loading:**\n",
    "   - Load the BERT model and tokenizer using the provided paths.\n",
    "   - Set the model to evaluation mode.\n",
    "\n",
    "3. **Data Loading:**\n",
    "   - Read sentences and titles from the CSV file into a Pandas DataFrame.\n",
    "\n",
    "4. **Embedding Generation and Storage:**\n",
    "   - Use a custom dataset class (`Custom_Dataset_DB`) and DataLoader to handle batching.\n",
    "   - Generate embeddings for each batch of sentences.\n",
    "   - Store the embeddings, original sentences, and metadata (titles) in ChromaDB.\n",
    "\n",
    "5. **Querying:**\n",
    "   - Implement a method to query the database using a given sentence embedding.\n"
   ]
  },
  {
   "cell_type": "markdown",
   "id": "3aa8d559",
   "metadata": {
    "hidden": true
   },
   "source": [
    "```python\n",
    "class ChromaEmbeddingProcessor:\n",
    "    def __init__(self, model_path, tokenizer_path, csv_file, storage_path):\n",
    "        self.model_path = model_path\n",
    "        self.tokenizer_path = tokenizer_path\n",
    "        self.csv_file = csv_file\n",
    "        self.collection_name = \"BERT_embeddings\"\n",
    "        self.chromadb_client = self.initialize_chromadb_client(storage_path)\n",
    "        self.model, self.tokenizer = self.load_bert_model()\n",
    "        self.model.eval()\n",
    "\n",
    "    def initialize_chromadb_client(self, storage_path):\n",
    "        return chromadb.PersistentClient(storage_path)\n",
    "\n",
    "    def load_bert_model(self):\n",
    "        return load_model(self.model_path, self.tokenizer_path)\n",
    "\n",
    "    def load_sentences_from_csv(self):\n",
    "        return pd.read_csv(self.csv_file)\n",
    "\n",
    "    def process_and_store_embeddings(self):\n",
    "        dataset = Custom_Dataset_DB(self.load_sentences_from_csv(), self.tokenizer, 512)\n",
    "        dataloader = DataLoader(dataset, batch_size=64, shuffle=False, drop_last=False)\n",
    "        for step, data in enumerate(dataloader):\n",
    "            sentence_embeddings = generate_embeddings(data, self.model)\n",
    "            embeddings = [emb.detach().numpy().flatten().tolist() for emb in sentence_embeddings]\n",
    "            documents = [data['sentence'][i] for i in range(len(sentence_embeddings))]\n",
    "            titles = [{\"title\": data['title'][i]} for i in range(len(sentence_embeddings))]\n",
    "            ids = [f\"id{step*64+i}\" for i in range(len(sentence_embeddings))]\n",
    "            collection = self.chromadb_client.get_collection(name=self.collection_name)\n",
    "            collection.add(documents=documents, embeddings=embeddings, metadatas=titles, ids=ids)\n",
    "```"
   ]
  },
  {
   "cell_type": "markdown",
   "id": "3f2c330e",
   "metadata": {
    "heading_collapsed": true
   },
   "source": [
    "#### Zilliz"
   ]
  },
  {
   "cell_type": "markdown",
   "id": "c64e4661",
   "metadata": {
    "hidden": true
   },
   "source": [
    "\n",
    "**Key Steps:**\n",
    "\n",
    "**Initialization:**\n",
    "- Set up paths for the model, tokenizer, and CSV file containing the sentences.\n",
    "- Connect to the Milvus server hosted on Zilliz.\n",
    "\n",
    "**Model and Tokenizer Loading:**\n",
    "- Load the fine-tuned BERT model and tokenizer.\n",
    "- Set the model to evaluation mode.\n",
    "\n",
    "**Data Loading:**\n",
    "- Read sentences and titles from the CSV file into a Pandas DataFrame.\n",
    "\n",
    "**Embedding Generation and Storage:**\n",
    "- Use a custom dataset class (`Custom_Inference_TL_Dataset_DB`) and DataLoader to handle batching.\n",
    "- Generate embeddings for each batch of sentences.\n",
    "- Store the embeddings, original sentences, and metadata (titles) in Zilliz.\n",
    "\n",
    "**Querying:**\n",
    "- Implement a method to query the database using a given sentence embedding.\n"
   ]
  },
  {
   "cell_type": "markdown",
   "id": "4ccb8bc3",
   "metadata": {
    "hidden": true
   },
   "source": [
    "```python\n",
    "class MilvusEmbeddingProcessorTL:\n",
    "    def __init__(self, model_path, csv_file):\n",
    "        self.model_path = model_path\n",
    "        self.tokenizer = DistilBertTokenizer.from_pretrained(\"distilbert-base-uncased\")\n",
    "        self.csv_file = csv_file\n",
    "        self.collection_name = \"BERT_embeddings_trained\"\n",
    "        self.model = self.load_bert_model()\n",
    "        self.model.eval()\n",
    "        self.client = MilvusClient(uri=\"...\", token=\"...\")\n",
    "\n",
    "    def load_bert_model(self):\n",
    "        return load_model_TL(self.model_path, self.tokenizer)\n",
    "\n",
    "    def load_sentences_from_csv(self):\n",
    "        return pd.read_csv(self.csv_file)\n",
    "\n",
    "    def process_and_store_embeddings(self):\n",
    "        dataset = Custom_Inference_TL_Dataset_DB(self.load_sentences_from_csv(), self.tokenizer, 512)\n",
    "        dataloader = DataLoader(dataset, batch_size=64, shuffle=False, drop_last=False)\n",
    "        id_counter = 0\n",
    "        for step, data in enumerate(dataloader):\n",
    "            sentence_embeddings = generate_TL_embeddings(data, self.model)\n",
    "            embeddings = [emb.tolist() for emb in sentence_embeddings]\n",
    "            texts = [data['sentence'][i] for i in range(len(sentence_embeddings))]\n",
    "            titles = [data['title'][i] for i in range(len(sentence_embeddings))]\n",
    "            entities = [{\"id\": id_counter + i, \"embedding\": emb, \"text\": txt, \"title\": title} for i, (emb, txt, title) in enumerate(zip(embeddings, texts, titles))]\n",
    "            id_counter += len(entities)\n",
    "            self.client.insert(collection_name=self.collection_name, data=entities)\n",
    "```"
   ]
  },
  {
   "cell_type": "markdown",
   "id": "b4d059d9",
   "metadata": {
    "heading_collapsed": true
   },
   "source": [
    "#### Why Zilliz over Chroma DB"
   ]
  },
  {
   "cell_type": "markdown",
   "id": "bd5fd2dc",
   "metadata": {
    "hidden": true
   },
   "source": [
    "**Reason for Choosing Zilliz over Chroma**\n",
    "\n",
    "- **Scalability:** The final vector database created with Chroma DB weighed over 26 GB, making it impractical for our needs. Zilliz offered a more scalable solution that better handled the large volume of data.\n",
    "\n",
    "- **Performance:** Zilliz provided faster insertion and querying capabilities, essential for handling our large dataset efficiently.\n",
    "\n",
    "- **Ease of Use:** The integration with Milvus and the provided Python client made Zilliz straightforward to implement and maintain.\n"
   ]
  },
  {
   "cell_type": "markdown",
   "id": "d13ed38e",
   "metadata": {
    "heading_collapsed": true
   },
   "source": [
    "### LLM"
   ]
  },
  {
   "cell_type": "markdown",
   "id": "4ad39efa",
   "metadata": {
    "hidden": true
   },
   "source": [
    "A Large Language Model (LLM) is a computational model made of neural networks trained on a huge data corpus to perform like humans in some tasks. In our specific case, we want to focus on text generation tasks and how the model can create good quality fairy tales. To achieve that, the LLMs use transformers inside the neural network to perform these natural language processing (NLP) tasks."
   ]
  },
  {
   "cell_type": "markdown",
   "id": "a5d4bbd9",
   "metadata": {
    "hidden": true
   },
   "source": [
    "#### Objectives"
   ]
  },
  {
   "cell_type": "markdown",
   "id": "8ce3dfad",
   "metadata": {
    "hidden": true
   },
   "source": [
    "- **Identify the Best LLMs for Storytelling:** We want to find one of the best options to generate stories and text.\n",
    "- **Evaluate Different LLMs:** We will evaluate Claude 3.5 Sonnet, Llama 3, and GPT-3.5 Turbo Instruct.\n",
    "- **Compare Local vs. Cloud-Based Models:** Analyze the performance of locally run models against cloud-based models."
   ]
  },
  {
   "cell_type": "markdown",
   "id": "bf586217",
   "metadata": {
    "hidden": true
   },
   "source": [
    "#### Models and Setup"
   ]
  },
  {
   "cell_type": "markdown",
   "id": "7e4efd92",
   "metadata": {
    "hidden": true
   },
   "source": [
    "1. **Claude 3.5 Sonnet**\n",
    "\n",
    "   - Not open source\n",
    "   - Cloud-based\n",
    "   - Accessed via API key\n",
    "   - Known for high-quality storytelling\n",
    "\n",
    "\n",
    "2. **Llama 3**\n",
    "\n",
    "   - Runs locally with Ollama\n",
    "   - 7 billion parameters\n",
    "   - Used to compare local performance vs. cloud-based models\n",
    "\n",
    "\n",
    "3. **GPT-3.5 Turbo Instruct**\n",
    "\n",
    "   - Not open source\n",
    "   - Cloud-based\n",
    "   - Large number of parameters\n",
    "   - Known for good text generation capabilities\n",
    "\n",
    "\n",
    "**Comparison Criteria**\n",
    "\n",
    "- **Execution Speed:** Local models are slower than cloud-based models.\n",
    "- **Output Quality:** Cloud-based models generally produce higher quality output.\n",
    "- **Parameter Size:** Larger models tend to produce better results.\n",
    "\n",
    "**Inference Options**\n",
    "\n",
    "Users have the option to perform inference with three LLMs:\n",
    "- **Llama 3 using Ollama and Langchain:** Slower due to local execution.\n",
    "- **Claude 3.5 Sonnet:** High-quality output, executed on the cloud.\n",
    "- **GPT-3.5 Turbo:** Also high-quality, cloud-based model. "
   ]
  },
  {
   "cell_type": "markdown",
   "id": "b1c82043",
   "metadata": {
    "hidden": true
   },
   "source": [
    "#### Key Steps and Implementation"
   ]
  },
  {
   "cell_type": "markdown",
   "id": "cf975717",
   "metadata": {
    "hidden": true
   },
   "source": [
    "**Key Steps:**\n",
    "\n",
    "1. **Setup and Initialization:**\n",
    "   - Initialize the necessary components including the pre-trained embedding model and the LLMs.\n",
    "\n",
    "2. **Processing and Generating Text:**\n",
    "   - Process the user prompt to retrieve relevant context using the embedding database.\n",
    "   - Construct a prompt template for the LLMs.\n",
    "   - Generate the fairy tale using the selected LLM.\n",
    "\n",
    "3. **Displaying Results:**\n",
    "   - Display the generated fairy tale along with detailed information.\n",
    "\n",
    "\n",
    "**Setup and Initialization:**\n",
    "\n",
    "```python\n",
    "model_path = 'Checkpoints/...'\n",
    "tokenizer_path = 'tokenizer/...'\n",
    "\n",
    "processor = MilvusEmbeddingProcessorTL(model_path, '')\n",
    "llm = Ollama(model=\"llama3\")\n",
    "\n",
    "llmGPT = OpenAI(api_key=OPENAI_API_KEY, model=\"gpt-3.5-turbo-instruct\", temperature=0)\n",
    "\n",
    "client = anthropic.Anthropic(\n",
    "    api_key=ANTROPHIC_API_KEY,\n",
    ")\n",
    "```\n",
    "\n",
    "```python  \n",
    " # Using the selected model for inference\n",
    "if model_choice == \"Llama 3\":\n",
    "    llm_result = llm.invoke(prompt_template)\n",
    "elif model_choice == \"ChatGPT\":\n",
    "    llm_result = llmGPT.invoke(prompt_template)\n",
    "else :\n",
    "    message = client.messages.create(\n",
    "        model=\"claude-3-5-sonnet-20240620\",\n",
    "        max_tokens=1024,\n",
    "        messages=[\n",
    "            {\"role\": \"user\", \"content\": prompt_template}\n",
    "        ]\n",
    "    )\n",
    "    llm_result = message.content[0].text\n",
    "            \n",
    "```"
   ]
  },
  {
   "cell_type": "markdown",
   "id": "e9980c0c",
   "metadata": {
    "hidden": true
   },
   "source": [
    "#### Conclusions from Model Testing"
   ]
  },
  {
   "cell_type": "markdown",
   "id": "fb97ccf4",
   "metadata": {
    "hidden": true
   },
   "source": [
    "\n",
    "After having tested the three models, we have come up with the following conclusions:\n",
    "\n",
    "- **Output Length:** If we don't specify a length, the output of GPT-3.5 Turbo is shorter than the others.\n",
    "- **Grammar and Names Quality:** \n",
    "  - **Claude 3.5:** Has the best Catalan and very good coherence.\n",
    "  - **GPT-3.5 Turbo:** Catalan is also good, but not as good as Claude.\n",
    "  - **Llama 3:** Has a lower quality of Catalan compared to the cloud-based models.\n",
    "- **Output Quality:**\n",
    "  - **Claude 3.5 and GPT-3.5 Turbo:** Both have good output quality but are larger models and are executed on the cloud.\n",
    "  - **Llama 3:** Smaller in size, executed locally, and thus has a different quality of output.\n",
    "\n",
    "For more detailed reviews on these outputs, refer to the [Experiments & Results](#experiments--results) section.\n",
    "\n"
   ]
  },
  {
   "cell_type": "markdown",
   "id": "476d5044",
   "metadata": {
    "heading_collapsed": true
   },
   "source": [
    "### Prompting"
   ]
  },
  {
   "cell_type": "markdown",
   "id": "36aec867",
   "metadata": {
    "hidden": true
   },
   "source": [
    "In the context of prompting, we want to apply different techniques to find out which is the best one for our specific RAG system. The structure of the prompt can improve significantly the LLMs output. For this reason, we want to try different techniques. In a RAG system, prompts are very important to ensure a good quality in the output. The points that we can focus on the prompt are:\n",
    "\n",
    "- Stating the task that we want to do\n",
    "- Providing context\n",
    "- Specifying the desired format or language of the response\n",
    "- Make sure the output is recommended for children\n",
    "\n",
    "Now we will show you different templates of prompt focusing on different points. The output for these prompts will be shown in the experiments section.\n",
    "\n",
    "\n",
    "\n",
    "**- Prompt Templates**\n",
    "\n",
    "**Detailed Instruction with Format Emphasis**\n",
    "- **Role:** Creative storyteller\n",
    "- **Task:** Craft a fairy tale in Catalan\n",
    "- **Structure:** Engaging story with a clear beginning, middle, and end\n",
    "- **Prompt:** \n",
    "    \n",
    "    - You are a creative storyteller. Using the following user prompt and context, craft a fairy tale in Catalan. Ensure the story is engaging and follows a clear structure with a beginning, middle, and end. User prompt: {userPrompt}. Context: {context}. Please write the story in Catalan.\n",
    "\n",
    "\n",
    "**Emphasizing Creativity and Contextual Relevance**\n",
    "- **Role:** Master storyteller\n",
    "- **Task:** Weave an enchanting fairy tale in Catalan\n",
    "- **Prompt:** \n",
    "\n",
    "    - As a master storyteller, your task is to weave an enchanting fairy tale in Catalan. Use the provided user prompt and context to inspire your story. The user prompt is: {userPrompt}. Here is the context for reference: {context}. Let your imagination run wild, and remember to write the tale in Catalan.\n",
    "\n",
    "\n",
    "**Focus on Emotional Engagement and Language**\n",
    "- **Role:** Magical storyteller\n",
    "- **Task:** Create a captivating narrative in Catalan\n",
    "- **Prompt:** \n",
    "\n",
    "    - Imagine you are telling a magical fairy tale in Catalan, inspired by the user prompt and context given. The user prompt is: {userPrompt}. The context to guide your story is: {context}. Create a captivating narrative that evokes wonder and delight, and ensure it's written in Catalan.\n",
    "\n",
    "\n",
    "**Concise and Direct with Contextual Clarity**\n",
    "- **Task:** Create a fairy tale in Catalan\n",
    "- **Prompt:** \n",
    "\n",
    "    - Create a fairy tale in Catalan based on the following details. User prompt: {userPrompt}. Context: {context}. Ensure the story is imaginative and written in Catalan.\n",
    "    \n",
    "\n",
    "**Encouraging Detailed and Vivid Storytelling**\n",
    "- **Role:** Expert in crafting vivid fairy tales\n",
    "- **Task:** Write a detailed and imaginative fairy tale in Catalan\n",
    "- **Prompt:** \n",
    "\n",
    "    - You are an expert in crafting vivid fairy tales. Using the user prompt and context provided, write a detailed and imaginative fairy tale in Catalan. User prompt: {userPrompt}. Context: {context}. Make sure the story is full of rich descriptions and engaging elements, and is written in Catalan.\n"
   ]
  },
  {
   "cell_type": "markdown",
   "id": "038053ba",
   "metadata": {
    "heading_collapsed": true
   },
   "source": [
    "### UI"
   ]
  },
  {
   "cell_type": "markdown",
   "id": "3ea908b6",
   "metadata": {
    "hidden": true
   },
   "source": [
    "All RAG systems should have a UI to be used by the users and fulfil their use cases. To achieve this, we have created a UI with Streamlit that can handle two flows.\n",
    "First flow is to fulfil the user use case. Where the user types a prompt and selects the preferred LLM and the system generates a fairy tale. The other flow has the same information but shows the prompt tokenization, which context the system retrieve, which is the system prompt and the final output of the LLM.\n",
    "\n",
    "\n",
    "<img src=\"initial_state_ui.png\" width=\"50%\"/>\n",
    "\n",
    "<img src=\"UI_first_flow.png\" width=\"50%\"/>\n",
    "\n",
    "<img src=\"UI_second_flow.png\" width=\"50%\"/>\n"
   ]
  },
  {
   "cell_type": "markdown",
   "id": "f12e31d2",
   "metadata": {},
   "source": [
    "# Experiments & Results"
   ]
  },
  {
   "cell_type": "markdown",
   "id": "f76f2cca",
   "metadata": {
    "heading_collapsed": true
   },
   "source": [
    "### Tensorboard for metric follow-up"
   ]
  },
  {
   "cell_type": "markdown",
   "id": "b8cd2520",
   "metadata": {
    "hidden": true
   },
   "source": [
    "To monitor the training and validation process, we integrated TensorBoard into both our custom BERT model and the transfer learning model. TensorBoard provides a visual interface to track metrics like loss and accuracy, helping us to better understand the model's performance over time.\n",
    "\n",
    "**TensorBoardLogger Class**\n",
    "\n",
    "We created a `TensorBoardLogger` class to handle the logging. This class uses PyTorch's `SummaryWriter` to write logs that TensorBoard can read and display.\n",
    "\n",
    "**TensorBoardLogger Implementation:**\n",
    "```python\n",
    "from torch.utils.tensorboard import SummaryWriter\n",
    "import os\n",
    "from datetime import datetime\n",
    "\n",
    "class TensorBoardLogger:\n",
    "    def __init__(self, base_log_dir='...'):\n",
    "        log_dir = self._get_log_dir(base_log_dir)\n",
    "        self.writer = SummaryWriter(log_dir)\n",
    "\n",
    "    def _get_log_dir(self, base_log_dir):\n",
    "        current_time = datetime.now().strftime('%Y%m%d-%H%M%S')\n",
    "        return os.path.join(base_log_dir, current_time)\n",
    "\n",
    "    def log_training_loss(self, loss, epoch, step, total_steps):\n",
    "        self.writer.add_scalar('Training Loss', loss, epoch * total_steps + step)\n",
    "\n",
    "    def log_average_training_loss(self, avg_loss, epoch):\n",
    "        self.writer.add_scalar('Average Training Loss', avg_loss, epoch)\n",
    "\n",
    "    def log_validation_loss(self, avg_loss, epoch):\n",
    "        self.writer.add_scalar('Validation Loss', avg_loss, epoch)\n",
    "    \n",
    "    def log_validation_accuracy_nsp(self, accuracy, epoch):\n",
    "        self.writer.add_scalar('Validation Accuracy NSP', accuracy, epoch)\n",
    "    \n",
    "    def log_validation_accuracy_mlm(self, accuracy, epoch):\n",
    "        self.writer.add_scalar('Validation Accuracy MLM top 1', accuracy, epoch)\n",
    "\n",
    "    def log_validation_accuracy_mlm_top5(self, accuracy, epoch):\n",
    "        self.writer.add_scalar('Validation Accuracy MLM top 5', accuracy, epoch)\n",
    "\n",
    "    def log_validation_accuracy_mlm_top10(self, accuracy, epoch):\n",
    "        self.writer.add_scalar('Validation Accuracy MLM top 10', accuracy, epoch)\n",
    "\n",
    "    def close(self):\n",
    "        self.writer.close()\n",
    "        \n",
    "```\n",
    "\n"
   ]
  },
  {
   "cell_type": "markdown",
   "id": "b00a4b74",
   "metadata": {},
   "source": [
    "### Custom BERT model and challenges"
   ]
  },
  {
   "cell_type": "markdown",
   "id": "41310be4",
   "metadata": {
    "heading_collapsed": true
   },
   "source": [
    "#### Token Length adaptation"
   ]
  },
  {
   "cell_type": "markdown",
   "id": "9028e680",
   "metadata": {
    "hidden": true
   },
   "source": [
    "In our first iterations of training, we would have the issue where the combined loss of our training tasks would return NaN at what it seemed to be completely random iterations. \n",
    "\n",
    "Sometimes, it would be in our second epoch. Sometimes later. This gave us a hard time spotting the specific place where this error was coming from.\n",
    "\n",
    "**Solution**\n",
    "\n",
    "At that point, the maximum length of our tokens was 512. Most of the sentences that we were processing had a lower token count than that. So, in most of those cases, we would then add [PAD] (padding) tokens to make up for the difference up to 512 tokens. \n",
    "\n",
    "However, we eventually realized, through extensive search of the specific embeddings that were crashing, that whenever the combination of embedding of the 2 sentences was large enough (exactly 512), no [PAD] would be added. In those cases, our attention Mask would fail to understand which sections of the sentence required attention and which not. \n",
    "\n",
    "We solved it by making sure that, whenever a sentence was combined with another sentece that had exactly 512 tokens, we would then just look for another sentece that did not cause this issue. Combinations that were longer than 512 were discarded from the start."
   ]
  },
  {
   "cell_type": "markdown",
   "id": "2326390b",
   "metadata": {
    "heading_collapsed": true
   },
   "source": [
    "#### Labeling of Masked Tokens"
   ]
  },
  {
   "cell_type": "markdown",
   "id": "54126885",
   "metadata": {
    "hidden": true
   },
   "source": [
    "After debugging these issues, our training finally started without errors. However, we started to relize that our model was failing to learn properly:"
   ]
  },
  {
   "cell_type": "markdown",
   "id": "23b7356f",
   "metadata": {
    "hidden": true
   },
   "source": [
    "**Tokenizer modification**\n",
    "\n",
    "One of our initial approaches was to switch our Tokenizer for the original BERT tokenizer, to make sure that our custom tokenizer wasnt the problem. However, after making the change, we realized that the training process would still stagnate eventually and wasn't a major enhancement overall.\n",
    "\n",
    "- **Blue & Grey** lines are the loss using the BERT tokenizer\n",
    "- **Green** line used our custom tokenizer\n",
    "\n",
    "<img src=\"tokenizer_change_test.png\" alt=\"Accuracy\" style=\"width:70%;\">\n"
   ]
  },
  {
   "cell_type": "markdown",
   "id": "f4a65243",
   "metadata": {
    "hidden": true
   },
   "source": [
    "**Some hyperparameter modifications**\n",
    "\n",
    "We then tried to increase the size of the model as well as adding some quality of life modifications for our model.\n",
    "\n",
    "*We applied the following modifications:\n",
    "- Batch Size increase\n",
    "- Modification of segment IDs \n",
    "- More epochs\n",
    "- Adding Warmup & Scheduler\n",
    " \n",
    " <img src=\"first_hyperparameters.png\" alt=\"Loss\" style=\"width:70%;\">"
   ]
  },
  {
   "cell_type": "markdown",
   "id": "e5c45d03",
   "metadata": {
    "hidden": true
   },
   "source": [
    "Even though it looked much better than before, our Loss continued to stagnate, and the accuracy of our MLM task was very low, clearly indicating that the model was not yet learning."
   ]
  },
  {
   "cell_type": "markdown",
   "id": "5011634d",
   "metadata": {
    "hidden": true
   },
   "source": [
    "**Solution**\n",
    "\n",
    "We finally realized that there was a problem in the masking inside of the encoder\n",
    "\n",
    "**Padding Mask:** In the encoder, there was a mask used for padding that was incorrectly set up. The padding mask should typically ignore the padding tokens (usually set to **False** for padding and **True** for actual content), but it was the other way around (padding was marked as **True** and content as **False**).\n",
    "\n",
    "We then, set up an experiment with batch size 1, in order to force the model to overfit so as to check that the whole model setup was correct. And it did:\n"
   ]
  },
  {
   "cell_type": "markdown",
   "id": "bd554387",
   "metadata": {
    "hidden": true
   },
   "source": [
    "<img src=\"padding_test.png\" alt=\"Accuracy\" style=\"width:70%;\">"
   ]
  },
  {
   "cell_type": "markdown",
   "id": "1dee278b",
   "metadata": {
    "hidden": true
   },
   "source": [
    "**New Metric**\n",
    "- At this point, we also decided to add a top 5 token accuracy\n",
    "\n",
    "After performing another complete training, we saw that our training was already not stagnating as much."
   ]
  },
  {
   "cell_type": "markdown",
   "id": "77b6df60",
   "metadata": {
    "hidden": true
   },
   "source": [
    "<div style=\"display: flex; justify-content: space-around;\">\n",
    "  <img src=\"Acc_3.png\" alt=\"Accuracy\" style=\"width:30%;\">\n",
    "  <img src=\"Acc_4.png\" alt=\"Accuracy\" style=\"width:30%;\">\n",
    "  <img src=\"loss_2.png\" alt=\"Accuracy\" style=\"width:30%;\">\n",
    "</div>"
   ]
  },
  {
   "cell_type": "markdown",
   "id": "164c6262",
   "metadata": {
    "heading_collapsed": true
   },
   "source": [
    "#### NSP Continues to be an issue"
   ]
  },
  {
   "cell_type": "markdown",
   "id": "83e2799b",
   "metadata": {
    "hidden": true
   },
   "source": [
    "At this point, our MLM task was learning correctly, and it was all about tuning the hyperparamenters.\n",
    "However we observed that our NSP (Next sentence predict) task was still completely random.\n",
    "\n",
    "- This indicated that even though our model was learning the vocabulary of our tokenizer, it would not understand the semantic meaning of the sentences good enough to be able to tell if a sentence was close to another sentence."
   ]
  },
  {
   "cell_type": "markdown",
   "id": "36013928",
   "metadata": {
    "hidden": true
   },
   "source": [
    "**Weighted Loss**\n",
    "\n",
    "One of the first things we tried was to give different weigths to the losses of the NSP task and the MLM task in order to force the model to have a better performance in the NSP task. This approach didn't contribute to the model's performance.\n",
    "\n",
    "**Learning Rate and other hyperparameters**\n",
    "\n",
    " - We tried lowering the LR even though our scheduler would do the same thing.\n",
    " - Increased hidden size of our forward layer.\n",
    " \n",
    " At this stage, we also tried to work with a larger effective batch during training by increasing both its size and the number of gradient accumulation steps needed before updating the model parameters. We hypothesized that by using a larger batch could lead to more stable and reliable updates to the model parameters, potentially leading to faster convergence. As it is shown the figure below no major improvement in performance was observed, but there was an increased training stability when using a larger effective batch, which we found valuable for the next tests performed. \n",
    "\n",
    " - **Pink** Batch size=20 and 3 accumulation steps\n",
    " - **Orange** Batch size=100 and 6 accumulation steps\n",
    "\n",
    "<img src=\"custom_m_bs_test.png\" width=\"100%\"/>\n",
    "\n",
    "\n",
    "Furthermore, we also hypothesized that the model wasn't able to completely able to learn the task because the number of masked tokens might be too large. We decided to study if the model's performance could increase by reducing the proportion of mask tokens introduce in our inputs. We concluded that there was not a change in the MLM task performance when working either with 7% or 15% of masked tokens. \n",
    "\n",
    "<img src=\"test_masks.png\" width=\"100%\"/>\n"
   ]
  },
  {
   "cell_type": "markdown",
   "id": "003d6e8c",
   "metadata": {},
   "source": [
    "#### Dataset Issues and Transfer Learning"
   ]
  },
  {
   "cell_type": "markdown",
   "id": "dd486e08",
   "metadata": {},
   "source": [
    "**Dataset Issues**\n",
    "\n",
    "One of our fears from the start was that our dataset would not be good enough for this complex task.\n",
    "At the end of the day, we finally realized that this was the case.\n",
    "Roughly 1.200 fairy tales is not enough for a model to learn the ropes of a language from scratch."
   ]
  },
  {
   "cell_type": "markdown",
   "id": "da47b187",
   "metadata": {},
   "source": [
    "To enhance our model's performance, we employed a pretrained **DistilBERT** as the base model for fine-tuning with our limited dataset. This decision was driven by the observed limitations of our custom **BERT** model when trained from scratch, which resulted in:\n",
    "- Modest **Masked Language Modeling (MLM)** performance\n",
    "- Modest **Next Sentence Prediction (NSP)** performance\n",
    "- Stagnation in loss throughout most tests\n",
    "\n",
    "We anticipated that by:\n",
    "- **Freezing certain layers** of a pretrained model\n",
    "- **Adjusting one encoder block** along with the MLM and NSP heads\n",
    "\n",
    "The model would effectively adjust its weights during the training process, ultimately leading to improved performance.\n",
    "\n",
    "**Hyperparameter Tests and Adjustments:**\n",
    "\n",
    "**Training Regimes and Performance Evaluation**\n",
    "To determine the necessary level of fine-tuning, we evaluated the model's performance under two training regimes:\n",
    "1. **Low Training:** 20 epochs\n",
    "2. **High Training:** 100 epochs\n",
    "\n",
    "**Preliminary Results:**\n",
    "- **DistilBERT** outperformed our best custom BERT training in both:\n",
    "  - **MLM:** 46% vs 13%\n",
    "  - **NSP:** 53% vs 50%\n",
    "- Extensive fine-tuning (high training) further boosted performance in both tasks.\n",
    "\n",
    "These findings suggest that, despite the constraints of our specific dataset, it can be effectively leveraged to enhance the model's performance and yield better embeddings.\n",
    "\n",
    "<div style=\"display: flex; justify-content: space-around;\">\n",
    "  <img src=\"TL_lr.png\" alt=\"Training Results\" style=\"width:100%;\">\n",
    "</div>\n",
    "\n",
    "**NSP Task Performance Improvement**\n",
    "Throughout this report, we have encountered challenges in improving the NSP task performance. To address this, we experimented with two different methods of semantically representing the input:\n",
    "1. **CLS Token Embedding:** Using the embedding of the CLS token\n",
    "2. **Mean Value Embedding:** Using the mean value of all input tokens for the NSP head\n",
    "\n",
    "**Observations:**\n",
    "- A **7% increase in NSP accuracy** was observed when using the mean value compared to the CLS embedding.\n",
    "\n",
    "<div style=\"display: flex; justify-content: space-around;\">\n",
    "  <img src=\"TL_cls_mean_test.png\" alt=\"CLS vs Mean Embedding Test\" style=\"width:100%;\">\n",
    "</div>\n"
   ]
  },
  {
   "cell_type": "markdown",
   "id": "c0c48238",
   "metadata": {},
   "source": [
    "**Comparison between Custom BERT and Transfer Learning DistilBERT**\n",
    "\n",
    "The following table presentsa final comparison between the best performing experiments for the two methods explored for generating our embeddings. As it is observed, fine-tuning a pretrained model has brought the best results both in terms of MLM top 1 accuracy and NSP accuracy.\n",
    "\n",
    "| Model |MLM top 1 Accuracy | NSP Accuracy |\n",
    "|----------|----------|----------|\n",
    "| **Custom BERT**   | 13.69%   | 10.55%|\n",
    "| **TL DistilBERT**   | 46.61%  |0.6028% |"
   ]
  },
  {
   "cell_type": "markdown",
   "id": "e5f86572",
   "metadata": {},
   "source": [
    "### Embedding representation results"
   ]
  },
  {
   "cell_type": "markdown",
   "id": "f8e9d341",
   "metadata": {},
   "source": [
    "#### Main Results & Interpretation"
   ]
  },
  {
   "cell_type": "markdown",
   "id": "fb357850",
   "metadata": {},
   "source": [
    "In order to measure the model's capacity to grasp the semantic meaning of sentences, we performed the following validation:\n",
    "\n",
    "- **Test Setup:** We stored a given number of test set samples in our vector database.\n",
    "- **Inference:** We performed inference through the model and retrieved the top k results (k=5, 3, 1).\n",
    "- **Validation:** We ensured that the titles of the searched sentences appeared in the top k results.\n",
    "- **Data Integrity:** The sentences stored in the vector database and the sentences used for retrieval were different.\n",
    "\n",
    "| Samples stored | Top 1 accuracy | Top 3 accuracy | Top 5 accuracy |\n",
    "|----------|----------|----------|----------|\n",
    "| 100 | 44% | 48.6% | 50% |\n",
    "| 300 | 46% | 52.6% | 54% |\n",
    "| 500 | 51% | 57.3% | 58.8% |\n",
    "\n",
    "**Observations:**\n",
    "- As more samples are stored, and more results are drawn from the database, the test performance improves.\n",
    "- Achieving approximately 50% accuracy across all tests suggests that the embeddings retain some semantic information of our dataset.\n",
    "- When inputting an individual sentence, sentences from the same text can be retrieved, indicating semantic consistency."
   ]
  },
  {
   "cell_type": "markdown",
   "id": "5f8af1ea",
   "metadata": {},
   "source": [
    "#### Embedding Dimensionality Reduced Representation"
   ]
  },
  {
   "cell_type": "markdown",
   "id": "bfb98e7b",
   "metadata": {},
   "source": [
    "We also validated the quality of the embeddings generated by the **DistilBERT** model using two independent dimensionality reduction techniques:\n",
    "- **Principal Component Analysis (PCA)**\n",
    "- **t-Distributed Stochastic Neighbor Embedding (t-SNE)**\n",
    "\n",
    "**Objective:**\n",
    "- Reduce high-dimensional embeddings to a 2D representation for easier visualization and understanding of complex patterns and relationships.\n",
    "\n",
    "**Method:**\n",
    "1. **Sampling:** Randomly sampled 10% of the sentences in our training set and obtained their embeddings.\n",
    "2. **Model Training:** Used these embeddings to fit the PCA and t-SNE models.\n",
    "3. **Application:** Applied each model to all the sentences' embeddings of our test set.\n",
    "4. **Visualization:** Represented the reduced embeddings in a 2D scatter plot for both train and test sentences.\n",
    "\n",
    "**Results:**\n",
    "- Most embeddings are positioned in a small part of the feature space with no clear clusters formed.\n",
    "- Embeddings from the same text are not clustered, indicating a lack of clear relationship between embeddings.\n",
    "- These representations suggest that while the embeddings capture some semantic representation of the input sentences, this representation is limited as we could not discern meaningful relationships among the embeddings.\n",
    "\n",
    "<div style=\"display: flex; justify-content: space-around;\">\n",
    "  <img src=\"pca_tsne.png\" alt=\"PCA and t-SNE Results\" style=\"width:95%;\">\n",
    "</div>\n"
   ]
  },
  {
   "cell_type": "markdown",
   "id": "9bfd40ec",
   "metadata": {},
   "source": [
    "# Conclusions & further exploration"
   ]
  },
  {
   "cell_type": "markdown",
   "id": "6c6a166a",
   "metadata": {},
   "source": [
    "**Project has been a success**\n",
    "\n",
    "explicar how has it been a success\n",
    "\n",
    "què hem fet, què ha funcionat\n",
    "\n",
    "bullet points"
   ]
  },
  {
   "cell_type": "markdown",
   "id": "50a9010e",
   "metadata": {},
   "source": [
    "**Training a BERT is no easy task**\n",
    "\n",
    "Mascaras, Tokenizer, Tasks, Very higly computationaly demanding\n",
    "\n",
    "Hyperparameter tuning with specific tools might be required"
   ]
  },
  {
   "cell_type": "markdown",
   "id": "63c4734f",
   "metadata": {},
   "source": [
    "**Limited dataset**\n",
    "\n",
    "The performance of our custom BERT has been limited, \n",
    "\n",
    "however we have successfully switched into a better system...\n",
    "\n",
    "The timing for looking for data should be expanded"
   ]
  },
  {
   "cell_type": "markdown",
   "id": "921af9ae",
   "metadata": {},
   "source": [
    "**Semantic representation is not easy to visualize**\n",
    "\n",
    "Representing highly complex vectorial spaces into 2D has been very challenging"
   ]
  },
  {
   "cell_type": "markdown",
   "id": "435b077e",
   "metadata": {},
   "source": [
    "**Prompting and UI**\n",
    "\n",
    "our system of prompting has been robust and works\n",
    "\n",
    "has been the final validation tool to actually understand that our system has grasped the semantic complexities of our dataset\n",
    "\n",
    "Prompting and LLM selection cannot be underestimated"
   ]
  },
  {
   "cell_type": "markdown",
   "id": "21e11f34",
   "metadata": {},
   "source": [
    "**Further Steps**\n",
    "\n",
    "Our system works, but for further development we would like to test how BERT sentence manages semantic complexity \n",
    "\n",
    "If we were to have a longer project timing, we would also implement BERT Sentence\n",
    "\n",
    "Difusion was not implemented due to time reasons, but it would be next in line of development"
   ]
  },
  {
   "cell_type": "code",
   "execution_count": 1,
   "id": "1b5bdbe6",
   "metadata": {},
   "outputs": [],
   "source": [
    "### Proposta conclusions Carles"
   ]
  },
  {
   "cell_type": "markdown",
   "id": "bf9ab94c",
   "metadata": {},
   "source": [
    "\n",
    "1. **BERT Model Training and Project Developments**:\n",
    "\n",
    "   - This project successfully trained a BERT model from scratch, showcasing the ability to develop robust models even with limited datasets. The custom BERT model, although challenging to train, provided valuable insights into the intricacies of model development.\n",
    "   - In addition to the custom BERT model, the project explored and fine-tuned DistilBERT, which outperformed the custom model in various tasks, including MLM (Masked Language Modeling) and NSP (Next Sentence Prediction) accuracy. This fine-tuning process highlighted the advantages of leveraging pretrained models and adapting them to specific tasks with smaller datasets.\n",
    "   - The project also developed comprehensive tools and methodologies for handling natural language processing tasks. These included generating high-quality storytelling content, implementing effective tokenization techniques, and visualizing semantic embeddings using PCA and t-SNE.\n",
    "   - Furthermore, an interactive user interface was created using Streamlit, enabling users to generate fairy tales based on prompts and visualize the tokenization and context retrieval processes. This UI was instrumental in validating the system's capabilities and ensuring a user-friendly experience.\n",
    "   \n",
    "\n",
    "2. **Fine-Tuning and Customization**:\n",
    "\n",
    "   - Fine-tuning DistilBERT proved to be more effective than training a custom BERT from scratch due to dataset size limitations. The fine-tuned DistilBERT model outperformed the custom model, achieving significant improvements in MLM (Masked Language Modeling) and NSP (Next Sentence Prediction) accuracy.\n",
    "   - Hyperparameter tuning, such as adjusting batch size, learning rate, and gradient accumulation steps, played a crucial role in enhancing model performance. Addressing issues like padding masks and tokenization errors also contributed to the improved results.\n",
    "   \n",
    "\n",
    "3. **Dataset Limitations**:\n",
    "\n",
    "   - The relatively small dataset of approximately 1,200 fairy tales posed challenges in training a robust model from scratch. This limitation highlighted the importance of fine-tuning pretrained models, which can leverage existing knowledge and adapt it to specific tasks with smaller datasets.\n",
    "   \n",
    "\n",
    "4. **Semantic Representation**:\n",
    "\n",
    "   - The embeddings generated during the project captured some semantic information but showed limited capability in forming clear clusters. Techniques like PCA and t-SNE were useful for visualizing embeddings, but the results indicated the complexity of semantic representation in natural language processing tasks, as it was difficult to semantically interpret how embeddings distributed in a reduced 2-D space.\n",
    "   - Despite these challenges, the project demonstrated that even with limited clear relationships among embeddings, useful and meaningful text generation is still achievable. As it was previously presented, it is possible to retrieve sentences originated from the same text foir a given prompt.\n",
    "   \n",
    "\n",
    "5. **Embedding Storage and Querying**:\n",
    "\n",
    "   - The project explored different vector databases, including Chroma DB and Zilliz, for storing and querying embeddings. Zilliz was chosen for its better scalability and performance, which is crucial for handling large volumes of embedding data efficiently.\n",
    "   \n",
    "\n",
    "6. **User Interface Development**:\n",
    "\n",
    "   - Developing a user interface with Streamlit facilitated two key functionalities: generating fairy tales based on user prompts and demonstrating the system's tokenization and context retrieval process. This interactive aspect was essential for validating the system's understanding and generation capabilities."
   ]
  },
  {
   "cell_type": "markdown",
   "id": "96fe1917",
   "metadata": {},
   "source": [
    "**Further Steps**\n",
    "\n",
    "1. **Enhanced Model Training**:\n",
    "\n",
    "   - Future research should explore training models on larger datasets to improve robustness and accuracy. Acquiring or creating a more extensive dataset of fairy tales or related storytelling content could provide a more substantial foundation for model training.\n",
    "   - Investigating advanced training techniques and leveraging transfer learning from other domains could also enhance model performance.\n",
    "   - Although the hyperparameter tuning phase was intensive, a better parameter combination could have lead to improvements in the model performance. To extensively expore the hyperparameter space, specific tools and libraries (Ray Tune) can be use for a further exploration of the high-dimensional parameter space.  \n",
    "\n",
    "2. **Semantic Complexity Management**:\n",
    "\n",
    "   - Implementing models like BERT Sentence could improve the handling of semantic complexity. These models are designed to manage longer contexts and more nuanced semantic relationships, which could enhance the quality of generated stories.\n",
    "   - Exploring diffusion models and other advanced architectures might provide new ways to approach text generation tasks, potentially leading to higher quality and more coherent narratives.\n",
    "\n",
    "\n",
    "3. **Model Deployment and Scalability**:\n",
    "\n",
    "   - As cloud-based models demonstrated superior performance, integrating these models into scalable cloud-based solutions could offer practical benefits for deployment. This would enable the system to handle larger volumes of requests and deliver high-quality outputs in real-time.\n",
    "\n",
    "\n",
    "4. **User Experience and Interaction**:\n",
    "\n",
    "   - Enhancing the user interface to provide more interactive and engaging experiences could attract more users and provide valuable feedback for continuous improvement. Features such as customizable story elements, user-driven prompts, and real-time feedback loops could enrich the storytelling experience.\n",
    "   - Incorporating user feedback mechanisms to learn from user interactions and preferences could guide further refinements in model training and output quality."
   ]
  },
  {
   "cell_type": "markdown",
   "id": "5fff3d2e",
   "metadata": {},
   "source": []
  }
 ],
 "metadata": {
  "kernelspec": {
   "display_name": "Python 3 (ipykernel)",
   "language": "python",
   "name": "python3"
  },
  "language_info": {
   "codemirror_mode": {
    "name": "ipython",
    "version": 3
   },
   "file_extension": ".py",
   "mimetype": "text/x-python",
   "name": "python",
   "nbconvert_exporter": "python",
   "pygments_lexer": "ipython3",
   "version": "3.9.7"
  },
  "toc": {
   "base_numbering": 1,
   "nav_menu": {},
   "number_sections": true,
   "sideBar": true,
   "skip_h1_title": false,
   "title_cell": "Table of Contents",
   "title_sidebar": "Contents",
   "toc_cell": false,
   "toc_position": {
    "height": "calc(100% - 180px)",
    "left": "10px",
    "top": "150px",
    "width": "286.797px"
   },
   "toc_section_display": true,
   "toc_window_display": true
  },
  "varInspector": {
   "cols": {
    "lenName": 16,
    "lenType": 16,
    "lenVar": 40
   },
   "kernels_config": {
    "python": {
     "delete_cmd_postfix": "",
     "delete_cmd_prefix": "del ",
     "library": "var_list.py",
     "varRefreshCmd": "print(var_dic_list())"
    },
    "r": {
     "delete_cmd_postfix": ") ",
     "delete_cmd_prefix": "rm(",
     "library": "var_list.r",
     "varRefreshCmd": "cat(var_dic_list()) "
    }
   },
   "types_to_exclude": [
    "module",
    "function",
    "builtin_function_or_method",
    "instance",
    "_Feature"
   ],
   "window_display": false
  }
 },
 "nbformat": 4,
 "nbformat_minor": 5
}
