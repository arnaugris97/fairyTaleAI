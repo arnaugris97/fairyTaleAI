{
 "cells": [
  {
   "cell_type": "markdown",
   "id": "071b70dd",
   "metadata": {
    "heading_collapsed": true
   },
   "source": [
    "# Abstract"
   ]
  },
  {
   "cell_type": "markdown",
   "id": "4ab5bb9d",
   "metadata": {},
   "source": [
    "# Table of Contents"
   ]
  },
  {
   "cell_type": "markdown",
   "id": "353c6455",
   "metadata": {},
   "source": [
    "# Introduction"
   ]
  },
  {
   "cell_type": "markdown",
   "id": "a0fd5dea",
   "metadata": {
    "heading_collapsed": true
   },
   "source": [
    "## Background and motivation"
   ]
  },
  {
   "cell_type": "markdown",
   "id": "85182b4a",
   "metadata": {
    "hidden": true
   },
   "source": [
    "Natural Language Processing (NLP) has come a long way with models like BERT, which help computers understand and generate human language more effectively. This progress opens up exciting possibilities for creating engaging and contextually rich stories.\n",
    "\n",
    "The idea for this project started from a personal experience within our team. One of us had a nephew who asked for a bedtime story about \"pirates in space.\" As Catalans who value storytelling but aren't all naturally imaginative, we struggled. Attempts to use existing generative models resulted in stories that missed the context and creativity the child wanted. This frustration highlighted a gap in current story generation tools.\n",
    "\n",
    "Motivated by this experience, we set out to create a better way to generate fairy tales that truly capture the magic and context of the themes kids ask for. We decided to train a BERT model specifically for this purpose and use a Retrieval-Augmented Generation (RAG) system. This way, when someone requests a story, the system can understand the request, find similar tales, and generate a new, engaging story.\n",
    "\n",
    "Our goal is to provide a tool that can make storytelling easier and more fun, ensuring that every story is as imaginative and contextually rich as the ones we cherish from our childhood."
   ]
  },
  {
   "cell_type": "markdown",
   "id": "b08226f2",
   "metadata": {},
   "source": [
    "## Objectives and scope"
   ]
  },
  {
   "cell_type": "markdown",
   "id": "8b184d4c",
   "metadata": {
    "heading_collapsed": true
   },
   "source": [
    "### Objectives"
   ]
  },
  {
   "cell_type": "markdown",
   "id": "8a5d04fb",
   "metadata": {
    "hidden": true
   },
   "source": [
    "The primary objective of this project is to develop an advanced story generation system that can create contextually rich and engaging fairy tales based on user input. \n",
    "\n",
    "In order to achieve this, we would divide our project into 3 different phases:\n",
    "\n",
    "![Phases of our project](initial_arquitecture.png)"
   ]
  },
  {
   "cell_type": "markdown",
   "id": "c4f35f89",
   "metadata": {
    "hidden": true
   },
   "source": [
    "These 3 phases have been further divided into more specific tasks:\n",
    "\n",
    "**Create a Custom Tokenizer**:\n",
    "\n",
    "- Develop a tokenizer specifically designed for our dataset of fairy tales to ensure accurate text processing.\n",
    "  \n",
    "**Train a BERT Model**: \n",
    "\n",
    "- Train a BERT model using the custom tokenizer and a diverse dataset of fairy tales to enable it to understand and generate narrative content effectively.\n",
    "\n",
    "**Implement a RAG System**: \n",
    "- Develop a system that integrates a vector database for storing embeddings of fairy tales and uses these embeddings to enhance the story generation process.\n",
    "\n",
    "**Generate Rich Fairy Tales**: \n",
    "- Use the embeddings retrieved from our database as context for an LLM to generate a more rich and engaging version of a fairy tale.\n",
    "\n",
    "**Evaluate the System**: \n",
    "- Assess the performance of the system through qualitative and quantitative metrics to ensure it meets the desired objectives."
   ]
  },
  {
   "cell_type": "markdown",
   "id": "7d8b975f",
   "metadata": {
    "heading_collapsed": true
   },
   "source": [
    "### Scope"
   ]
  },
  {
   "cell_type": "markdown",
   "id": "d51fcc0c",
   "metadata": {
    "hidden": true
   },
   "source": [
    "The scope of this project encompasses the following key areas:\n",
    "\n",
    "\n",
    "**Data Collection and Preprocessing:**\n",
    "\n",
    "- Collect a dataset of fairy tales for training the BERT model.\n",
    "- Preprocess the dataset to ensure it is suitable for training.\n",
    "\n",
    "**Tokenizer Development:**\n",
    "\n",
    "- Create a custom tokenizer tailored to the fairy tale dataset.\n",
    "\n",
    "**Model Training and Development:**\n",
    "\n",
    "- Train the BERT model on the collected dataset. We will do this by implementing:\n",
    "  - **MLM (Masked Language Model)**\n",
    "  - **NSP (Next Sentence Prediction)** tasks to fine-tune the model for narrative generation.\n",
    "\n",
    "**Embedding and Vector Database:**\n",
    "\n",
    "- Create embeddings of the fairy tales using the trained BERT model.\n",
    "- Store these embeddings in a vector database to facilitate efficient retrieval.\n",
    "\n",
    "**Retrieval-Augmented Generation System:**\n",
    "\n",
    "- Develop the retrieval mechanism using cosine similarity to find relevant story contexts.\n",
    "- Integrate the retrieval system with a language model to generate new stories based on user input.\n",
    "\n",
    "**System Evaluation:**\n",
    "\n",
    "- Conduct experiments to evaluate the retrieval accuracy and the quality of the generated stories.\n",
    "\n",
    "**User Interface:**\n",
    "\n",
    "- Design a user-friendly interface where users can input their story requests and receive generated stories.\n"
   ]
  },
  {
   "cell_type": "markdown",
   "id": "2156db34",
   "metadata": {},
   "source": [
    "# Methodology"
   ]
  },
  {
   "cell_type": "markdown",
   "id": "c92272ed",
   "metadata": {},
   "source": [
    "### Data Collection"
   ]
  },
  {
   "cell_type": "markdown",
   "id": "473eef11",
   "metadata": {},
   "source": [
    "**Data Gathering**\n",
    "\n",
    "To develop an advanced story generation system, we needed a robust and diverse dataset of fairy tales. Our data collection process involved multiple sources to ensure a comprehensive dataset. Here’s how we approached it:\n",
    "\n",
    "1. **Kaggle**: We found several relevant datasets on Kaggle, including:\n",
    "   - [Grimm’s Fairy Tales](https://www.kaggle.com/datasets/tschomacker/grimms-fairy-tales)\n",
    "   - [Grimms' Brother Fairy Tale Dataset](https://www.kaggle.com/datasets/cornellius/grimms-brother-fairy-tale-dataset)\n",
    "\n",
    "2. **Hugging Face**: We utilized datasets from Hugging Face, such as:\n",
    "   - [FairytaleQA Dataset](https://huggingface.co/datasets/WorkInTheDark/FairytaleQA)\n",
    "   - [FairyTales Dataset](https://huggingface.co/datasets/KyiThinNu/FairyTales)\n",
    "\n",
    "3. **GitHub**: We accessed the FairytaleQA dataset from GitHub:\n",
    "   - [FairytaleQAData](https://github.com/uci-soe/FairytaleQAData/tree/main)\n",
    "\n",
    "4. **Web Scraping**: To supplement the datasets, we performed web scraping on various websites dedicated to fairy tales, including:\n",
    "   - [Dream Little Star](https://dreamlittlestar.com/)\n",
    "   - [Read the Tale](https://www.readthetale.com/)\n",
    "\n",
    "We used web scraping tools and techniques to extract text data from these sources, carefully handling HTML parsing and cleaning the text to make it suitable for training.\n",
    "\n",
    "By combining datasets from these sources, we compiled a rich and diverse collection of fairy tales. This dataset was then preprocessed to remove any inconsistencies and ensure it was ready for training our BERT model.\n",
    "\n",
    "#### Dataset Analysis\n",
    "\n",
    "To better understand the characteristics of our dataset, we performed a detailed analysis, including visualizations such as histograms. Below are some of the key insights:\n",
    "\n",
    "- **Story Length Distribution**: The histogram below shows the distribution of story lengths in the dataset.\n",
    "\n",
    "![Story Length Distribution](imagen3.png)\n",
    "\n",
    "- **Vocabulary Size**: The histogram below represents the distribution of vocabulary sizes across different stories.\n",
    "\n",
    "![Vocabulary Size Distribution](imagen2.png)\n",
    "\n",
    "- **Average Sentence Length**: The histogram below shows the distribution of average sentence lengths in the dataset.\n",
    "\n",
    "![Average Sentence Length](imagen1.png)\n",
    "\n",
    "These analyses helped us to understand the dataset better and guided our preprocessing and model training steps.\n",
    "\n",
    "#### Dataset Metrics\n",
    "\n",
    "For training and validating our model, we have gathered a total of 1,183 fairy tales. Here are some key metrics of our dataset:\n",
    "\n",
    "- **Total Sentences**: 128,541 sentences\n",
    "- **Mean Sentences per Story**: 114 sentences\n",
    "- **Total Words**: 2,631,859 words\n"
   ]
  },
  {
   "cell_type": "markdown",
   "id": "4a0c0847",
   "metadata": {
    "heading_collapsed": true
   },
   "source": [
    "### Tokenizer"
   ]
  },
  {
   "cell_type": "markdown",
   "id": "f0c7f92e",
   "metadata": {
    "hidden": true
   },
   "source": [
    "**Byte-Pair Encoding (BPE) Tokenizer**\n",
    "\n",
    "Initially, our team developed a Byte-Pair Encoding (BPE) tokenizer to process the fairy tales. BPE tokenization involves merging the most frequent pairs of characters or subwords iteratively until a specified vocabulary size is reached. This method helps in efficiently encoding words and subwords, which is beneficial for the training of our BERT model.\n",
    "\n",
    "**Key steps in our BPE tokenizer implementation:**\n",
    "1. **Initialization**: Define the number of merges (iterations) for the tokenization process.\n",
    "2. **Vocabulary Creation**: Split words into characters and calculate the frequency of each pair of characters.\n",
    "3. **Pair Merging**: Iteratively merge the most frequent pairs of characters to create subwords."
   ]
  },
  {
   "cell_type": "markdown",
   "id": "54d2287d",
   "metadata": {
    "hidden": true
   },
   "source": [
    "```python\n",
    "for _ in range(self.num_merges):\n",
    "    pairs = defaultdict(int)\n",
    "    for word, freq in vocab.items():\n",
    "        symbols = word.split()\n",
    "        for i in range(len(symbols) - 1):\n",
    "            pairs[(symbols[i], symbols[i + 1])] += freq\n",
    "    best_pair = max(pairs, key=pairs.get)\n",
    "    new_symbol = ''.join(best_pair)\n",
    "    new_vocab = defaultdict(int)\n",
    "    for word in vocab:\n",
    "        new_word = word.replace(' '.join(best_pair), new_symbol)\n",
    "        new_vocab[new_word] += vocab[word]\n",
    "    vocab = new_vocab\n",
    "```"
   ]
  },
  {
   "cell_type": "markdown",
   "id": "e1577ef2",
   "metadata": {
    "hidden": true
   },
   "source": [
    "**WordPiece Tokenizer**\n",
    "\n",
    "After experimenting with the BPE tokenizer, we discovered that the WordPiece tokenizer provided better performance for our task. The WordPiece tokenizer iteratively builds the vocabulary by considering the most frequent subword pairs, similar to BPE, but with additional handling for character-level tokens.\n",
    "\n",
    "**Key advantages of the WordPiece tokenizer:**\n",
    "1. **Efficiency in handling rare words**: The WordPiece tokenizer can break down rare words into subwords more effectively, improving the model's ability to generalize.\n",
    "2. **Handling of special characters**: The tokenizer includes special tokens for punctuation, spaces, and other characters, enhancing its ability to process diverse text formats.\n",
    "\n",
    "**Key steps in our WordPiece tokenizer implementation:**\n",
    "1. **Initialization**: Define the vocabulary size and special tokens.\n",
    "2. **Word Frequency Calculation**: Count the frequency of words and characters in the text.\n",
    "3. **Vocabulary Building**: Iteratively merge the most frequent pairs to form subwords and build the vocabulary.\n"
   ]
  },
  {
   "cell_type": "markdown",
   "id": "d9d7563d",
   "metadata": {
    "hidden": true
   },
   "source": [
    "```python\n",
    "while len(self.vocab) < self.vocab_size:\n",
    "scores = self._compute_pair_scores(splits)\n",
    "best_pair = max(scores, key=scores.get)\n",
    "splits = self._merge_pair(*best_pair, splits)\n",
    "new_token = best_pair[0] + best_pair[1][2:] if best_pair[1].startswith(\"##\") else best_pair[0] + best_pair[1]\n",
    "self.vocab.append(new_token)\n",
    "```"
   ]
  },
  {
   "cell_type": "markdown",
   "id": "9689c4f9",
   "metadata": {
    "hidden": true
   },
   "source": [
    "**Conclusion: WordPiece Tokenizer > BPE Tokenizer**\n",
    "\n",
    "We opted for the WordPiece tokenizer over the Byte-Pair Encoding (BPE) tokenizer for several key reasons:\n",
    "\n",
    "##### Key Differences\n",
    "\n",
    "1. **Handling Rare Words**:\n",
    "   - **BPE**: Less effective at handling rare words due to its frequency-based merges.\n",
    "   - **WordPiece**: Breaks down rare words into smaller, meaningful subwords, improving generalization.\n",
    "\n",
    "2. **Special Characters**:\n",
    "   - **BPE**: Lacks explicit handling of special characters.\n",
    "   - **WordPiece**: Includes special tokens for punctuation and spaces, providing accurate text representation.\n",
    "\n",
    "3. **Vocabulary Efficiency**:\n",
    "   - **BPE**: Fixed number of merges can lead to suboptimal vocabulary size.\n",
    "   - **WordPiece**: Dynamically builds a balanced and efficient vocabulary.\n",
    "\n",
    "4. **Contextual Understanding**:\n",
    "   - **BPE**: May miss contextual nuances in narrative text.\n",
    "   - **WordPiece**: Better contextual understanding due to granular word breakdown and handling of special characters.\n",
    "\n",
    "\n",
    "The WordPiece tokenizer demonstrated superior performance in handling rare words, special characters, and providing efficient, contextually aware tokenization. These advantages make it the optimal choice for processing our fairy tale dataset and generating rich, engaging stories.\n"
   ]
  },
  {
   "cell_type": "markdown",
   "id": "8bdc75eb",
   "metadata": {
    "hidden": true
   },
   "source": [
    "**Tokenizer Output**\n",
    "\n",
    "Specifically, our final tokenizer outputs the following information:\n",
    "\n",
    "- **Token IDs**: Each token in the text is mapped to a unique integer ID from the vocabulary.\n",
    "- **Special Tokens**: These are tokens added to the text to provide additional information about the structure of the input.\n",
    "  - **[CLS]**: Added at the beginning of the text. Represents the entire input sequence and its embedding is used for classification tasks.\n",
    "  - **[SEP]**: Separates different parts of the input (e.g., question and answer, two sentences). For single sequences, it is added at the end.\n",
    "  - **[PAD]**: Used to pad sequences to the same length within a batch.\n",
    "- **Attention Mask**: Indicates which tokens should be attended to and which should be ignored (due to padding).\n",
    "- **Token Type IDs**: Identifies different segments in the input. For single sequences, all values are typically 0. For paired sequences, the first sequence might have all 0s and the second sequence all 1s.\n"
   ]
  },
  {
   "cell_type": "markdown",
   "id": "145f6e73",
   "metadata": {},
   "source": [
    "### Model Architecture"
   ]
  },
  {
   "cell_type": "markdown",
   "id": "bc394225",
   "metadata": {
    "heading_collapsed": true
   },
   "source": [
    "#### Custom BERT"
   ]
  },
  {
   "cell_type": "markdown",
   "id": "93818327",
   "metadata": {
    "heading_collapsed": true,
    "hidden": true
   },
   "source": [
    "##### Visual Summary"
   ]
  },
  {
   "cell_type": "markdown",
   "id": "d9b0c317",
   "metadata": {
    "hidden": true
   },
   "source": [
    "Here's the image illustrating the BERT model architecture:\n",
    "\n",
    "![Model Architecture](bert_model.png)\n",
    "\n",
    "Follow this section for specific explanations on every section"
   ]
  },
  {
   "cell_type": "markdown",
   "id": "7fff3232",
   "metadata": {
    "heading_collapsed": true,
    "hidden": true
   },
   "source": [
    "##### Input of our model"
   ]
  },
  {
   "cell_type": "markdown",
   "id": "d6366646",
   "metadata": {
    "hidden": true
   },
   "source": [
    "1. **Tokenizer Output**\n",
    "\n",
    "**Components**:\n",
    "- **Input IDs**: Unique integer IDs for each token in the text.\n",
    "- **Attention Mask**: Indicates which tokens should be attended to (1) and which should be ignored (0) due to padding.\n",
    "- **Segment IDs**: Identifies different segments in the input. For single sequences, all values are typically 0. For paired sequences, the first sequence might have all 0s and the second sequence all 1s.\n"
   ]
  },
  {
   "cell_type": "markdown",
   "id": "76bd3c8d",
   "metadata": {
    "heading_collapsed": true,
    "hidden": true
   },
   "source": [
    "##### Embedding Layer"
   ]
  },
  {
   "cell_type": "markdown",
   "id": "078a672e",
   "metadata": {
    "hidden": true
   },
   "source": [
    "The embedding layer converts input tokens into dense vectors.\n",
    "\n",
    "```python\n",
    "class EmbeddingLayer(nn.Module):\n",
    "    def __init__(self, vocab_size, embed_size, seq_len=64, dropout=0.1):\n",
    "        super(EmbeddingLayer, self).__init__()\n",
    "        self.token_embeddings = nn.Embedding(vocab_size, embed_size, padding_idx=0)\n",
    "        self.segment_embeddings = nn.Embedding(3, embed_size, padding_idx=0)\n",
    "        self.position_embeddings = PositionalEmbedding(d_model=embed_size, max_len=seq_len)\n",
    "        self.dropout = nn.Dropout(p=dropout)\n",
    "       \n",
    "    def forward(self, input_ids, segment_ids):        \n",
    "        x = self.token_embeddings(input_ids) + self.position_embeddings(input_ids) + self.segment_embeddings(segment_ids)\n",
    "        x = self.dropout(x)\n",
    "        return x\n",
    "```"
   ]
  },
  {
   "cell_type": "markdown",
   "id": "9f4c19a2",
   "metadata": {
    "hidden": true
   },
   "source": [
    "**Key Steps:**\n",
    "\n",
    "- Convert token IDs to embeddings.\n",
    "- Add positional embeddings to encode the position of each token. (See next section)\n",
    "- Add segment embeddings to differentiate between different segments of input.\n",
    "- Apply dropout for regularization."
   ]
  },
  {
   "cell_type": "markdown",
   "id": "e0f182bc",
   "metadata": {
    "heading_collapsed": true,
    "hidden": true
   },
   "source": [
    "##### Positional Encoding"
   ]
  },
  {
   "cell_type": "markdown",
   "id": "29c7ec78",
   "metadata": {
    "hidden": true
   },
   "source": [
    "3. **Positional Encoding**\n",
    "\n",
    "Adds positional information to the embeddings to ensure the model understands the order of tokens.\n",
    "\n",
    "```python\n",
    "class PositionalEmbedding(torch.nn.Module):\n",
    "    def __init__(self, d_model, max_len=128):\n",
    "        super().__init__()\n",
    "        pe = torch.zeros(max_len, d_model).float()\n",
    "        pe.require_grad = False\n",
    "        for pos in range(max_len):\n",
    "            for i in range(0, d_model, 2):\n",
    "                pe[pos, i] = math.sin(pos / (10000 ** ((2 * i)/d_model)))\n",
    "                pe[pos, i + 1] = math.cos(pos / (10000 ** ((2 * (i + 1))/d_model)))\n",
    "        self.pe = pe.unsqueeze(0)\n",
    "    \n",
    "    def forward(self, x):\n",
    "        return self.pe\n",
    "```"
   ]
  },
  {
   "cell_type": "markdown",
   "id": "6603a6e7",
   "metadata": {
    "heading_collapsed": true,
    "hidden": true
   },
   "source": [
    "##### Transformer Encoder Block"
   ]
  },
  {
   "cell_type": "markdown",
   "id": "04725ab2",
   "metadata": {
    "hidden": true
   },
   "source": [
    "4. **Transformer Encoder Blocks**\n",
    "\n",
    "Consists of multiple encoder layers that apply self-attention mechanisms and feed-forward networks.\n",
    "\n",
    "```python\n",
    "class EncoderLayer(torch.nn.Module):\n",
    "    def __init__(self, d_model=768, heads=12, feed_forward_hidden=768 * 4, dropout=0.1):\n",
    "        super(EncoderLayer, self).__init__()\n",
    "        self.layernorm = torch.nn.LayerNorm(d_model)\n",
    "        self.self_multihead = MultiHeadedAttention(heads, d_model)\n",
    "        self.feed_forward = FeedForward(d_model, middle_dim=feed_forward_hidden)\n",
    "        self.dropout = torch.nn.Dropout(dropout)\n",
    "\n",
    "    def forward(self, embeddings, mask):\n",
    "        interacted = self.dropout(self.self_multihead(embeddings, embeddings, embeddings, mask))\n",
    "        interacted = self.layernorm(interacted + embeddings)\n",
    "        feed_forward_out = self.dropout(self.feed_forward(interacted))\n",
    "        encoded = self.layernorm(feed_forward_out + interacted)\n",
    "        return encoded\n",
    "```"
   ]
  },
  {
   "cell_type": "markdown",
   "id": "62aa42a1",
   "metadata": {
    "hidden": true
   },
   "source": [
    "**Key Steps:**\n",
    "\n",
    " - **Self-Attention:** Allows the model to focus on different parts of the input sequence.\n",
    " - **Feed-Forward Network:** Applies a fully connected feed-forward network to each token.\n",
    " - **Layer Normalization and Dropout:** Normalizes the output and applies dropout for regularization."
   ]
  },
  {
   "cell_type": "markdown",
   "id": "26962019",
   "metadata": {
    "heading_collapsed": true,
    "hidden": true
   },
   "source": [
    "##### Training Tasks"
   ]
  },
  {
   "cell_type": "markdown",
   "id": "6d9028d5",
   "metadata": {
    "hidden": true
   },
   "source": [
    "**Explanation of our training tasks:**\n",
    "- For our **MLM task**, our goal is to predict some tokens that we have previously masked\n",
    "- For our **NSP task**, we will try to predict wether the second sentence of our input is the following sentence of our dataset\n",
    "    "
   ]
  },
  {
   "cell_type": "markdown",
   "id": "2e833356",
   "metadata": {
    "heading_collapsed": true,
    "hidden": true
   },
   "source": [
    "###### MLM: Masked Language Model"
   ]
  },
  {
   "cell_type": "markdown",
   "id": "da0612d1",
   "metadata": {
    "hidden": true
   },
   "source": [
    "```python\n",
    "class MaskedLanguageModel(nn.Module):\n",
    "    def __init__(self, hidden, vocab_size):\n",
    "        super().__init__()\n",
    "        self.linear = nn.Linear(hidden, vocab_size)\n",
    "        self.softmax = nn.LogSoftmax(dim=-1)\n",
    "    \n",
    "    def forward(self, input):\n",
    "        x = self.linear(input)\n",
    "        x = self.softmax(x)\n",
    "        return x\n",
    "```"
   ]
  },
  {
   "cell_type": "markdown",
   "id": "255ff56a",
   "metadata": {
    "hidden": true
   },
   "source": [
    "**Key Steps:**\n",
    "- Use a linear followed by a softmax"
   ]
  },
  {
   "cell_type": "markdown",
   "id": "19bff412",
   "metadata": {
    "heading_collapsed": true,
    "hidden": true
   },
   "source": [
    "###### NSP: Next sentence Predict"
   ]
  },
  {
   "cell_type": "markdown",
   "id": "055607d5",
   "metadata": {
    "hidden": true
   },
   "source": [
    "```python\n",
    "class NextSentencePrediction(nn.Module):\n",
    "    def __init__(self, hidden):\n",
    "        super().__init__()\n",
    "        self.linear = nn.Linear(hidden, 2)\n",
    "        self.softmax = nn.LogSoftmax(dim=-1)\n",
    "    \n",
    "    def forward(self, input):\n",
    "        x = input[:, 0]\n",
    "        x = self.linear(x)\n",
    "        x = self.softmax(x)\n",
    "        return x\n",
    "```    "
   ]
  },
  {
   "cell_type": "markdown",
   "id": "daf263b6",
   "metadata": {
    "hidden": true
   },
   "source": [
    "**Key Steps:**\n",
    "- Use only the first token ([CLS]) to predict if the next sentence follows.\n",
    "- Apply a linear layer followed by a softmax for classification."
   ]
  },
  {
   "cell_type": "markdown",
   "id": "51947964",
   "metadata": {},
   "source": [
    "#### Transfer Learning with DistilBERT"
   ]
  },
  {
   "cell_type": "markdown",
   "id": "3105c7c0",
   "metadata": {
    "heading_collapsed": true
   },
   "source": [
    "### Training Routine"
   ]
  },
  {
   "cell_type": "markdown",
   "id": "1de675df",
   "metadata": {
    "hidden": true
   },
   "source": [
    "#### Train, Test Split"
   ]
  },
  {
   "cell_type": "markdown",
   "id": "8e190a9c",
   "metadata": {
    "hidden": true
   },
   "source": [
    "#### Hyperparameters"
   ]
  },
  {
   "cell_type": "markdown",
   "id": "adee1a9d",
   "metadata": {
    "hidden": true
   },
   "source": [
    "#### Scheduler"
   ]
  },
  {
   "cell_type": "markdown",
   "id": "0914ff8d",
   "metadata": {
    "hidden": true
   },
   "source": [
    "#### Dropout"
   ]
  },
  {
   "cell_type": "markdown",
   "id": "04c92592",
   "metadata": {
    "hidden": true
   },
   "source": [
    "#### Warmup"
   ]
  },
  {
   "cell_type": "markdown",
   "id": "f4e9411c",
   "metadata": {},
   "source": [
    "### Embedding Generation"
   ]
  },
  {
   "cell_type": "markdown",
   "id": "38b2bd0d",
   "metadata": {
    "heading_collapsed": true
   },
   "source": [
    "#### Custom BERT"
   ]
  },
  {
   "cell_type": "markdown",
   "id": "88274163",
   "metadata": {
    "hidden": true
   },
   "source": [
    "**Inference and Embedding Generation**\n",
    "\n",
    "During inference, we use the BERT model **without** the **Next Sentence Prediction (NSP)** and **Masked Language Model (MLM)** tasks. Instead, we focus on generating meaningful embeddings for our fairy tale dataset. These embeddings capture the contextual information of the input text, which is crucial for our RAG system.\n",
    "\n",
    "**Embedding Generation:**\n",
    "- The BERT model's embedding layer and encoder layers are used to transform input text into dense vector representations.\n",
    "- These embeddings encapsulate the semantic meaning and context of the input text."
   ]
  },
  {
   "cell_type": "markdown",
   "id": "35a1fb91",
   "metadata": {
    "hidden": true
   },
   "source": [
    "**Visual Summary**\n",
    "Here's the image illustrating the BERT model architecture:\n",
    "\n",
    "![Model Architecture](bert_inf.png)\n",
    "\n",
    "Follow this section for specific explanations on every section"
   ]
  },
  {
   "cell_type": "markdown",
   "id": "64fd92f9",
   "metadata": {
    "hidden": true
   },
   "source": [
    "```python\n",
    "class BERT(nn.Module):\n",
    "    def __init__(self, vocab_size, seq_len=512, d_model=768, n_layers=12, heads=12, dropout=0.1):\n",
    "        super().__init__()\n",
    "        self.d_model = d_model\n",
    "        self.n_layers = n_layers\n",
    "        self.heads = heads\n",
    "        self.feed_forward_hidden = d_model * 4\n",
    "        self.embedding = EmbeddingLayer(vocab_size=vocab_size, embed_size=d_model, seq_len=seq_len, dropout=dropout)\n",
    "        self.encoder_blocks = nn.ModuleList(\n",
    "            [EncoderLayer(d_model, heads, d_model * 4, dropout) for _ in range(n_layers)])\n",
    "    \n",
    "    def forward(self, x, segment_info):\n",
    "        mask = (x > 0).unsqueeze(1).repeat(1, x.size(1), 1).unsqueeze(1)\n",
    "        x = self.embedding(x, segment_info)\n",
    "        for encoder in self.encoder_blocks:\n",
    "            x = encoder.forward(x, mask)\n",
    "        return x\n",
    "```"
   ]
  },
  {
   "cell_type": "markdown",
   "id": "44317b24",
   "metadata": {
    "heading_collapsed": true
   },
   "source": [
    "#### Transfer Learning with DistilBERT"
   ]
  },
  {
   "cell_type": "markdown",
   "id": "fbc79df0",
   "metadata": {},
   "source": [
    "### Vector DB"
   ]
  },
  {
   "cell_type": "markdown",
   "id": "55b12ee4",
   "metadata": {},
   "source": [
    "#### Chroma DB"
   ]
  },
  {
   "cell_type": "markdown",
   "id": "3f2c330e",
   "metadata": {},
   "source": [
    "#### Zilliz"
   ]
  },
  {
   "cell_type": "markdown",
   "id": "d13ed38e",
   "metadata": {},
   "source": [
    "### LLM\n",
    "\n",
    "A Large Language Model (LLMs) is a computational model made of neural networks trained on a huge data corpus to perform like humans in some tasks. In our specific case, we want to focus on text generation tasks and how the model  can create good quality fairy tales. To achieve that, the LLMs use transformers inside the neural network to perform these natural language procession (NLP) tasks.\n",
    "\n",
    "We want to find one of the best options to generate stories and text. One of the best LLMs that we can use today for storytelling is Claude 3.5 sonnet. This model is not open source, but we have an API key to perform inferences. In order to try other LLMs, we have integrated Llama 3 and GPT-3.5 turbo instruct.\n",
    "\n",
    "Llama 3 is run locally with Ollama. We wanted to run one of them locally to see how is performing compared to the other cloud based models. Another point is to see which is the difference between a 7B parameters like the Llama 3 run locally and Claude 3.5 sonnet or GPT-3.5 Turbo instruct run in their servers and with a very huge number of parameters.\n",
    "\n",
    "For this reason, in our project, the user has the option to perform the inference with three LLMs. Can run with Llama 3 using Ollama and Langchain, or use Claude 3.5 sonnet, or use GPT-3.5 Turbo. The first one is slower than the others because it is executed locally. Then the size matter in this case, because the output of the Llama 3 is not the same as the output of the other models. The cloud base models are larger than Llama 3 and the quality is better.\n",
    "\n",
    "Now we will show you which is the output for the same input for each of the models:\n",
    "\n",
    "**The input prompt:**\n",
    "\n",
    "This is a prompt for a RAG system. I need you to create a fairy tale in Catalan following the user prompt and the context. The user prompt is: Once upon a time there was a little red riding hood who lived in a small village.\n",
    "\n",
    "And this is the context: I once went twelve miles in a coop, and it was not pleasant travelling at all., THERE was once upon a time a couple of folks who had a son called Halvor., There was a loud yell of pain, and then the ogre dashed in front of the warrior., Once upon a time there was a fisherman who had a wife and three children., This place was said to be haunted by a cannibal goblin who took the form of an old woman., Those sounds came from a little street that led to a small village along the shore., About a mile farther on the road, there is another herd for you., Once upon a time two young men living in a small village fell in love with the same girl., There was no one in the house except an old Lapland woman who was cooking fish over an oil-lamp., Then he went on and came to a wide river over which he must go..\n",
    "\n",
    "So the output should be in Catalan.\n",
    "\n",
    "<br>\n",
    "<br>\n",
    "\n",
    "**This is the output with local Llama 3:**\n",
    "\n",
    "Quan era petit, hi havia una xiqueta vermella que vivia en un petit poble. La xiqueta es deia Xisca i era filla d'un bon camperol que tenia molts animals al seu camp. Ella era molt alegre i amorosa, i sempre estava disposada a ajudar els seus veïns.\n",
    "\n",
    "Però un dia, mentre anava a visitar la seva àvia a les muntanyes, Xisca es va trobar amb una situació molt desagradable. Va sortir del poble i va començar a caminar per una carretera llarga i estreta que duia fins al costat d'un gran llac. Hi havia un home d'una força impressionant, anomenat Torsten, que havia construït una caserna al centre del poble.\n",
    "\n",
    "Quan Xisca es va acostar a la caserna, l'esguardava amb curiositat i inquietud. De sobte, sentí un crit agònic i llavors l'home d'una força impressionant, Torsten, va sortir de la caserna i va començar a córrer cap al poble.\n",
    "\n",
    "La xiqueta Xisca es va trobar amb una dona vella que tenia una barba llarga i unes ulls estranys. La dona li digué: \"No t'acostis, xiqueta. Aquest home és un ogre i és molt perillós\". Però Xisca no la va escoltar i es va acostar a ell.\n",
    "\n",
    "Llavors, l'ogre la va agafar i se la va emportar cap al seu castell. La xiqueta Xisca era molt espantada i no sabia què fer. Però llavors sentí una veu que li deien: \"Xiqueta, no t'afegeixis. Aquest home és un ogre i és molt perillós\".\n",
    "\n",
    "La xiqueta es va despertar i es va trobar al seu propi llit a casa seva. Era tot un somni! Però Xisca sabia que l'aventura no havia acabat encara. Es preparà per anar a visitar la seva àvia a les muntanyes, ja que havia promès de fer-ho.\n",
    "\n",
    "Però abans d'anar-se'n, va sentir una veu que li deien: \"Xiqueta, no t'afegeixis. Aquest home és un ogre i és molt perillós\". I llavors es va adonar que l'aventura havia començat realment!\n",
    "\n",
    "<br>\n",
    "<br>\n",
    "\n",
    "\n",
    "**This is the output with GPT-3.5 Turbo instruct:**\n",
    "\n",
    "Hi ha una vegada en un petit poble una nena amb una caputxeta vermella que vivia amb la seva àvia. Un dia, la seva àvia li va demanar que portés una cistella de menjar a la seva mare, que vivia a dotze milles de distància. La nena va acceptar, tot i que no li agradava gaire viatjar en una carrossa.\n",
    "\n",
    "Mentre viatjava, la nena va passar per un bosc on va trobar una parella de gent gran que tenia un fill anomenat Halvor. Ells li van explicar que havien sentit un crit fort de dolor i que un ogre havia aparegut davant d'un guerrer. La nena va continuar el seu camí, pensant en aquesta història.\n",
    "\n",
    "Finalment, va arribar a la casa de la seva mare, que era una pescadora i tenia tres fills. La nena va ajudar la seva mare a preparar el peix per al sopar i li va explicar la història de l'ogre que havia sent\n",
    "\n",
    "<br>\n",
    "<br>\n",
    "\n",
    "**This is the output with Claude 3.5 Sonnet:**\n",
    "\n",
    "Hi havia una vegada una Caputxeta Vermella que vivia en un petit poble vora el mar. Un dia, la seva mare li va demanar que portés un cistell de menjar a la seva àvia malalta, que vivia a l'altra banda del bosc.\n",
    "\n",
    "Mentre caminava pel camí, la Caputxeta va sentir uns sorolls estranys que provenien d'un carreró que conduïa a un altre llogaret. Intrigada, va decidir investigar-ho.\n",
    "\n",
    "En arribar-hi, va trobar una vella lapona que cuinava peix sobre una llàntia d'oli. La vella li va advertir sobre un goblin caníbal que rondava per aquells indrets, disfressat de dona gran.\n",
    "\n",
    "Espantada, la Caputxeta va reprendre el seu camí, però aviat es va trobar amb un gran riu que havia de creuar. Mentre buscava la manera de passar, va veure un pescador amb la seva dona i tres fills que lluitaven contra un ogre ferotge.\n",
    "\n",
    "La Caputxeta, valenta, va ajudar la família a espantar l'ogre, que va fugir cridant de dolor. Agraït, el pescador li va indicar un camí segur per travessar el riu i arribar a casa de la seva àvia.\n",
    "\n",
    "Finalment, la Caputxeta va aconseguir arribar a casa de l'àvia, on va descobrir que la suposada \"àvia\" era en realitat el goblin caníbal disfressat. Amb enginy i l'ajuda d'un jove anomenat Halvor, que passava per allà, van aconseguir derrotar el goblin i salvar la veritable àvia.\n",
    "\n",
    "I així, la Caputxeta va tornar al seu poble, havent viscut una gran aventura i havent fet nous amics. Des d'aquell dia, sempre explicava que viatjar dotze milles en un galliner no era gens agradable, però que les aventures que havia viscut havien valgut la pena.\n",
    "\n",
    "<br>\n",
    "<br>\n",
    "\n",
    "\n",
    "As we can see, if we don't specify a length, the output of GPT-3.5 Turbo is shorter than the others. But the main difference between them is the quality of the grammar and the names that they use. From our point of view, Claude 3.5 has the best Catalan and the coherence is very good. For GPT-3.5 Turbo is also good, the Catalan, but not as good as Claude. Both, Claude and GPT-3.5 Turbo have a good output quality but are larger than Llama 3 and are executed on the cloud. Llama 3 has a poor quality of Catalan, but the coherence is good.\n",
    "\n",
    "<br><br>\n",
    "\n",
    "### Prompting\n",
    "\n",
    "In the context of prompting, we want to apply different techniques to find out which is the best one for our specific RAG system. The structure of the prompt can improve significantly the LLMs output. For this reason, we want to try different techniques. In a RAG system, prompts are very important to ensure a good quality in the output. The points that we can focus on the prompt are stating the task that we want to do, providing context and specifying the desired format or language of the response.\n",
    "\n",
    "Now we will show you different templates of prompt focusing on different points. The output for these prompt will be shown in the experiments section.\n",
    "\n",
    "<br> <br>\n",
    "\n",
    "**Template 1: Detailed Instruction with Format Emphasis**\n",
    "\n",
    "You are a creative storyteller. Using the following user prompt and context, craft a fairy tale in Catalan. Ensure the story is engaging and follows a clear structure with a beginning, middle, and end. User prompt: {userPrompt}. Context: {context}. Please write the story in Catalan.\n",
    "\n",
    "<br> <br>\n",
    "\n",
    "**Template 2: Emphasizing Creativity and Contextual Relevance**\n",
    "\n",
    "As a master storyteller, your task is to weave an enchanting fairy tale in Catalan. Use the provided user prompt and context to inspire your story. The user prompt is: {userPrompt}. Here is the context for reference: {context}. Let your imagination run wild, and remember to write the tale in Catalan.\n",
    "\n",
    "<br> <br>\n",
    "\n",
    "**Template 3: Focus on Emotional Engagement and Language**\n",
    "\n",
    "Imagine you are telling a magical fairy tale in Catalan, inspired by the user prompt and context given. The user prompt is: {userPrompt}. The context to guide your story is: {context}. Create a captivating narrative that evokes wonder and delight, and ensure it's written in Catalan.\n",
    "\n",
    "<br> <br>\n",
    "\n",
    "**Template 4: Concise and Direct with Contextual Clarity**\n",
    "\n",
    "Create a fairy tale in Catalan based on the following details. User prompt: {userPrompt}. Context: {context}. Ensure the story is imaginative and written in Catalan.\n",
    "\n",
    "<br> <br>\n",
    "\n",
    "**Template 5: Encouraging Detailed and Vivid Storytelling**\n",
    "\n",
    "You are an expert in crafting vivid fairy tales. Using the user prompt and context provided, write a detailed and imaginative fairy tale in Catalan. User prompt: {userPrompt}. Context: {context}. Make sure the story is full of rich descriptions and engaging elements, and is written in Catalan.\n",
    "\n",
    "<br> <br>\n",
    "\n"
   ]
  },
  {
   "cell_type": "markdown",
   "id": "038053ba",
   "metadata": {},
   "source": [
    "### UI\n",
    "\n",
    "All RAG systems should have a UI to be used by the users and fulfil their use cases. To achieve this, we have created a UI with Streamlit that can handle two flows.\n",
    "First flow is to fulfil the user use case. Where the user types a prompt and selects the preferred LLM and the system generates a fairy tale. The other flow has the same information but shows the prompt tokenization, which context the system retrieve, which is the system prompt and the final output of the LLM.\n",
    "\n",
    "![Initial state UI](initial_state_ui.png)\n",
    "\n",
    "\n",
    "![UI first flow](UI_first_flow.png)\n",
    "\n",
    "\n",
    "![UI second flow](UI_second_flow.png)\n"
   ]
  },
  {
   "cell_type": "markdown",
   "id": "f12e31d2",
   "metadata": {},
   "source": [
    "# Experiments & Results"
   ]
  },
  {
   "cell_type": "markdown",
   "id": "f76f2cca",
   "metadata": {},
   "source": [
    "### Tensorboard for metric follow-up"
   ]
  },
  {
   "cell_type": "markdown",
   "id": "b00a4b74",
   "metadata": {},
   "source": [
    "### Challenges that we faced"
   ]
  },
  {
   "cell_type": "markdown",
   "id": "e4fd1179",
   "metadata": {},
   "source": [
    "#### Introduction"
   ]
  },
  {
   "cell_type": "markdown",
   "id": "41310be4",
   "metadata": {
    "heading_collapsed": true
   },
   "source": [
    "#### Token Length adaptation"
   ]
  },
  {
   "cell_type": "markdown",
   "id": "9028e680",
   "metadata": {
    "hidden": true
   },
   "source": [
    "In our first iterations of training, we would have the issue where the combined loss of our training tasks would return NaN at what it seemed to be completely random iterations. \n",
    "\n",
    "Sometimes, it would be in our second epoch. Sometimes later. This gave us a hard time spotting the specific place where this error was coming from.\n",
    "\n",
    "**Solution**\n",
    "\n",
    "At that point, the maximum length of our tokens was 512. Most of the sentences that we were processing had a lower token count than that. So, in most of those cases, we would then add [PAD] (padding) tokens to make up for the difference up to 512 tokens. \n",
    "\n",
    "However, we eventually realized, through extensive search of the specific embeddings that were crashing, that whenever the combination of embedding of the 2 sentences was large enough (exactly 512), no [PAD] would be added. In those cases, our attention Mask would fail to understand which sections of the sentence required attention and which not. \n",
    "\n",
    "We solved it by making sure that, whenever a sentence was combined with another sentece that had exactly 512 tokens, we would then just look for another sentece that did not cause this issue. Combinations that were longer than 512 were discarded from the start."
   ]
  },
  {
   "cell_type": "markdown",
   "id": "2326390b",
   "metadata": {
    "heading_collapsed": true
   },
   "source": [
    "#### Labeling of Masked Tokens"
   ]
  },
  {
   "cell_type": "markdown",
   "id": "54126885",
   "metadata": {
    "hidden": true
   },
   "source": [
    "After debugging these issues, our training finally started without errors. However, we started to relize that our model was failing to learn properly:"
   ]
  },
  {
   "cell_type": "markdown",
   "id": "23b7356f",
   "metadata": {
    "hidden": true
   },
   "source": [
    "**Tokenizer modification**\n",
    "\n",
    "On of our initial approaches was to switch our Tokenizer for the original BERT tokenizer, to make sure that our custom tokenizer wasnt the problem. However, after making the change, we realized that the training process would still stagnate eventually"
   ]
  },
  {
   "cell_type": "markdown",
   "id": "2d244682",
   "metadata": {
    "hidden": true
   },
   "source": [
    "<img src=\"loss_0.png\" alt=\"Loss of our first iterations of training\" style=\"width:50%;\">"
   ]
  },
  {
   "cell_type": "markdown",
   "id": "27953ce1",
   "metadata": {
    "hidden": true
   },
   "source": [
    "<img src=\"Acc_0.png\" alt=\"Accuracy of our first iterations of training\" style=\"width:50%;\">\n",
    "\n",
    "- **Blue & Grey** lines are the loss using the BERT tokenizer\n",
    "- **Green** line used our custom tokenizer"
   ]
  },
  {
   "cell_type": "markdown",
   "id": "f4a65243",
   "metadata": {
    "hidden": true
   },
   "source": [
    "**Some hyperparameter modifications**\n",
    "\n",
    "We then tried to increase the size of the model as well as adding some quality of life modifications for our model.\n",
    "\n",
    "*We applied the following modifications:\n",
    "- Batch Size increase\n",
    "- Modification of segment IDs \n",
    "- More epochs\n",
    "- Adding Warmup & Scheduler\n",
    " "
   ]
  },
  {
   "cell_type": "markdown",
   "id": "e24f7000",
   "metadata": {
    "hidden": true
   },
   "source": [
    "<img src=\"loss_1.png\" alt=\"Loss\" style=\"width:50%;\">\n",
    "\n",
    "<img src=\"Acc_1.png\" alt=\"Accuracy\" style=\"width:50%;\">"
   ]
  },
  {
   "cell_type": "markdown",
   "id": "e5c45d03",
   "metadata": {
    "hidden": true
   },
   "source": [
    "Even though it looked much better than before, our Loss continued to stagnate, and the accuracy of our MLM task was very low, clearly indicating that the model was not yet learning."
   ]
  },
  {
   "cell_type": "markdown",
   "id": "5011634d",
   "metadata": {
    "hidden": true
   },
   "source": [
    "**Solution**\n",
    "\n",
    "we finally realized that there was a problem in the masking inside of the encoder\n",
    "\n",
    "**Padding Mask:** In the encoder, there was a mask used for padding that was incorrectly set up. The padding mask should typically ignore the padding tokens (usually set to **False** for padding and **True** for actual content), but it was the other way around (padding was marked as **True** and content as **False**).\n",
    "\n",
    "We then, set up an experiment with batch size 1, in order to see if the model would overfit. And it did:\n"
   ]
  },
  {
   "cell_type": "markdown",
   "id": "bd554387",
   "metadata": {
    "hidden": true
   },
   "source": [
    "<img src=\"Acc_2.png\" alt=\"Accuracy\" style=\"width:30%;\">"
   ]
  },
  {
   "cell_type": "markdown",
   "id": "1dee278b",
   "metadata": {
    "hidden": true
   },
   "source": [
    "**New Metric**\n",
    "- At this point, we also decided to add a top 5 token accuracy\n",
    "\n",
    "After performing another complete training, we saw that our training was already not stagnating as much"
   ]
  },
  {
   "cell_type": "markdown",
   "id": "77b6df60",
   "metadata": {
    "hidden": true
   },
   "source": [
    "<img src=\"Acc_3.png\" alt=\"Accuracy\" style=\"width:30%;\">\n",
    "<img src=\"Acc_4.png\" alt=\"Accuracy\" style=\"width:30%;\">\n",
    "<img src=\"loss_2.png\" alt=\"Accuracy\" style=\"width:30%;\">"
   ]
  },
  {
   "cell_type": "markdown",
   "id": "164c6262",
   "metadata": {
    "heading_collapsed": true
   },
   "source": [
    "#### NSP Continues to be an issue"
   ]
  },
  {
   "cell_type": "markdown",
   "id": "83e2799b",
   "metadata": {
    "hidden": true
   },
   "source": [
    "At this point, our MLM task was learning preety well, and it was all about tuning the hyperparamenters.\n",
    "However we observed that our NSP (Next sentence predict) task was still completely random.\n",
    "\n",
    "- This indicated that even though our model was learning the vocabulary of our tokenizer, it would not understand the semantic meaning of the sentences good enough to be able to tell if a sentence was close to another sentence."
   ]
  },
  {
   "cell_type": "markdown",
   "id": "36013928",
   "metadata": {
    "hidden": true
   },
   "source": [
    "**Weighted Loss**\n",
    "\n",
    "One of the first things we tried was to give different weigths to the losses of the NSP task and the MLM task in order to force the model to have a better performance in the NSP task.\n",
    "\n",
    "This did not really work. \n",
    "\n",
    "**Learing Rate and other hyperparameters**\n",
    "\n",
    " - We tried lowering the LR even though our scheduler would do the same thing\n",
    " - Increased hidden size of our forward"
   ]
  },
  {
   "cell_type": "markdown",
   "id": "dd486e08",
   "metadata": {
    "hidden": true
   },
   "source": [
    "**Dataset Issues**\n",
    "\n",
    "One of our fears from the start was that our dataset would not be good enough for this complex task.\n",
    "At the end of the day, we finally realized that this was the case.\n",
    "\n",
    "Roughly 1.200 fairy tales is not enough for a model to learn the ropes of a language from scratch.\n",
    "\n",
    "At this point we were very disappointed, but we had to improvise a solution to make the model work. "
   ]
  },
  {
   "cell_type": "markdown",
   "id": "84f1fb67",
   "metadata": {
    "hidden": true
   },
   "source": [
    "**Transfer Learning**\n",
    "\n"
   ]
  },
  {
   "cell_type": "markdown",
   "id": "e2c56bcd",
   "metadata": {},
   "source": [
    "### Description of the experiments performed"
   ]
  },
  {
   "cell_type": "markdown",
   "id": "83db2e51",
   "metadata": {},
   "source": [
    "### Results of the model"
   ]
  },
  {
   "cell_type": "markdown",
   "id": "9bfd40ec",
   "metadata": {},
   "source": [
    "# Conclusions & further exploration"
   ]
  },
  {
   "cell_type": "code",
   "execution_count": 3,
   "id": "556ffd7a",
   "metadata": {},
   "outputs": [],
   "source": [
    "## Distil BERT vs Custom BERT"
   ]
  },
  {
   "cell_type": "code",
   "execution_count": null,
   "id": "28275a2a",
   "metadata": {},
   "outputs": [],
   "source": []
  }
 ],
 "metadata": {
  "kernelspec": {
   "display_name": "Python 3 (ipykernel)",
   "language": "python",
   "name": "python3"
  },
  "language_info": {
   "codemirror_mode": {
    "name": "ipython",
    "version": 3
   },
   "file_extension": ".py",
   "mimetype": "text/x-python",
   "name": "python",
   "nbconvert_exporter": "python",
   "pygments_lexer": "ipython3",
   "version": "3.9.7"
  },
  "toc": {
   "base_numbering": 1,
   "nav_menu": {},
   "number_sections": true,
   "sideBar": true,
   "skip_h1_title": false,
   "title_cell": "Table of Contents",
   "title_sidebar": "Contents",
   "toc_cell": false,
   "toc_position": {
    "height": "calc(100% - 180px)",
    "left": "10px",
    "top": "150px",
    "width": "286.797px"
   },
   "toc_section_display": true,
   "toc_window_display": true
  },
  "varInspector": {
   "cols": {
    "lenName": 16,
    "lenType": 16,
    "lenVar": 40
   },
   "kernels_config": {
    "python": {
     "delete_cmd_postfix": "",
     "delete_cmd_prefix": "del ",
     "library": "var_list.py",
     "varRefreshCmd": "print(var_dic_list())"
    },
    "r": {
     "delete_cmd_postfix": ") ",
     "delete_cmd_prefix": "rm(",
     "library": "var_list.r",
     "varRefreshCmd": "cat(var_dic_list()) "
    }
   },
   "types_to_exclude": [
    "module",
    "function",
    "builtin_function_or_method",
    "instance",
    "_Feature"
   ],
   "window_display": false
  }
 },
 "nbformat": 4,
 "nbformat_minor": 5
}
