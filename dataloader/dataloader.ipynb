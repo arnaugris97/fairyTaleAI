{
 "cells": [
  {
   "cell_type": "code",
   "execution_count": 1,
   "id": "d14c95cb-d586-4f80-98d5-c2ce1bdb2cb2",
   "metadata": {},
   "outputs": [],
   "source": [
    "import os\n",
    "from torch.utils.data import Dataset\n",
    "import torch\n",
    "#from wordPieceTokenizer import WordPieceTokenizer\n",
    "import json\n",
    "import re\n",
    "import urllib.request\n",
    "from collections import defaultdict, Counter\n",
    "import random\n",
    "import numpy as np\n",
    "\n",
    "random.seed(0)\n",
    "import pandas as pd\n",
    "def load_separate_and_clean_stories(filename):\n",
    "    with open(filename, 'r') as file:\n",
    "        content = file.read()\n",
    "\n",
    "    stories = content.split('\\n\\n\\n\\n')\n",
    "\n",
    "    cleaned_stories = []\n",
    "    for story in stories:\n",
    "        cleaned_story = re.sub(r'\\n\\s*\\n', '\\n', story.strip())\n",
    "        cleaned_stories.append(cleaned_story)\n",
    "    \n",
    "    return cleaned_stories\n",
    "\n",
    "def separate_sentences(text):\n",
    "    text = text.replace('...','#^')\n",
    "    text = text.replace('.','~.')\n",
    "    text = text.replace('?','@?')\n",
    "    text = text.replace('!','%!')\n",
    "    \n",
    "    b = re.split('[.?!^]' , text)                                                                                                                                                                                                                                                                                                                                          \n",
    "    c = [w.replace('~', '.') for w in b]\n",
    "    c = [w.replace('@', '?') for w in c]\n",
    "    c = [w.replace('#', '...') for w in c]\n",
    "    c = [w.replace('%', '!') for w in c]\n",
    "    \n",
    "    return(c)"
   ]
  },
  {
   "cell_type": "markdown",
   "id": "c3409336-7460-4b26-a0f2-03c9690b0764",
   "metadata": {
    "jp-MarkdownHeadingCollapsed": true
   },
   "source": [
    "## V.1"
   ]
  },
  {
   "cell_type": "code",
   "execution_count": 21,
   "id": "3e1d6409-bc2d-480b-b9bf-8e856523a8c9",
   "metadata": {},
   "outputs": [],
   "source": [
    "class MyDataset(Dataset):\n",
    "\n",
    "    def __init__(self, dict_,mask=False):\n",
    "        super().__init__()\n",
    "        self.dict = dict_\n",
    "        self.mask = mask\n",
    "    def __len__(self):\n",
    "        return len(self.dict)\n",
    "\n",
    "    def __getitem__(self, idx):\n",
    "        \n",
    "        text = self.dict[str(idx)]['text']\n",
    "\n",
    "        tokens = torch.tensor(self.dict[str(idx)]['tokens'])\n",
    "\n",
    "        if self.mask!=False:\n",
    "            idxs = np.linspace(0,len(tokens)-1,len(tokens)).astype(int)\n",
    "            pos = random.choices(idxs, k=int(len(idxs)*0.15))\n",
    "            tokens[pos] = self.mask\n",
    "\n",
    "        return text,tokens"
   ]
  },
  {
   "cell_type": "code",
   "execution_count": 4,
   "id": "19421035-60b8-4739-9647-d1ccbc37e54b",
   "metadata": {},
   "outputs": [],
   "source": [
    "# Load the tokenizer\n",
    "tokenizer = WordPieceTokenizer()\n",
    "tokenizer.load('wordPieceVocab.json')\n",
    "\n",
    "# Load the dataset\n",
    "dataset_txt = load_separate_and_clean_stories(\"dataset/combined_stories.txt\")\n",
    "\n",
    "dict_ = {}\n",
    "for i in range(len(dataset_txt)//20):\n",
    "    dict_[i] = {'text':dataset_txt[i],\n",
    "                'tokens':tokenizer.encode_n(dataset_txt[i])\n",
    "                 }\n",
    "\n",
    "with open(\"dataset/dataset_dict.json\", \"w\") as outfile: \n",
    "    json.dump(dict_, outfile)  # We can read this file to avoid computing again the dict_"
   ]
  },
  {
   "cell_type": "code",
   "execution_count": 22,
   "id": "08cfb7fe-7233-4d53-946e-9faf41e5d18c",
   "metadata": {},
   "outputs": [],
   "source": [
    "with open('dataset/dataset_dict.json') as json_file:\n",
    "    dict_ = json.load(json_file)\n",
    "    \n",
    "complete_dataloader = MyDataset(dict_,tokenizer.word2idx[\"[MASK]\"])"
   ]
  },
  {
   "cell_type": "code",
   "execution_count": 24,
   "id": "3666d63c-d386-400c-b8b1-418604d3f754",
   "metadata": {},
   "outputs": [
    {
     "data": {
      "text/plain": [
       "1597"
      ]
     },
     "execution_count": 24,
     "metadata": {},
     "output_type": "execute_result"
    }
   ],
   "source": [
    "len(complete_dataloader.__getitem__(0)[1])"
   ]
  },
  {
   "cell_type": "code",
   "execution_count": 25,
   "id": "52fc7626-ea71-4745-a77d-f151aa18a5ed",
   "metadata": {},
   "outputs": [
    {
     "data": {
      "text/plain": [
       "223"
      ]
     },
     "execution_count": 25,
     "metadata": {},
     "output_type": "execute_result"
    }
   ],
   "source": [
    "len(np.where(complete_dataloader.__getitem__(0)[1]==4)[0])"
   ]
  },
  {
   "cell_type": "markdown",
   "id": "afb7f01f-7692-4bbe-aaa3-2bd612a3fc8d",
   "metadata": {
    "jp-MarkdownHeadingCollapsed": true
   },
   "source": [
    "## V.2"
   ]
  },
  {
   "cell_type": "code",
   "execution_count": 43,
   "id": "ebbd024c-9690-4542-896d-1bf9644f30a3",
   "metadata": {},
   "outputs": [],
   "source": [
    "class MyDataset(Dataset):\n",
    "\n",
    "    def __init__(self, dataset,sentences):\n",
    "        super().__init__()\n",
    "        self.dataset = dataset\n",
    "        self.sentences = sentences\n",
    "    def __len__(self):\n",
    "        return len(self.dataset)\n",
    "\n",
    "    def __getitem__(self, idx):\n",
    "        \n",
    "        title = self.dataset.iloc[idx]['Title']\n",
    "        text = separate_sentences(self.dataset.iloc[idx]['cleaned_story'])\n",
    "        list_sentences = [''.join(map(str, text[i:i+self.sentences])) for i in range(0, len(text), self.sentences)]\n",
    "\n",
    "        return title,text,list_sentences"
   ]
  },
  {
   "cell_type": "code",
   "execution_count": 44,
   "id": "d4c6c6b5-6af7-45be-8c9d-e4a5ef80c160",
   "metadata": {},
   "outputs": [
    {
     "data": {
      "text/html": [
       "<div>\n",
       "<style scoped>\n",
       "    .dataframe tbody tr th:only-of-type {\n",
       "        vertical-align: middle;\n",
       "    }\n",
       "\n",
       "    .dataframe tbody tr th {\n",
       "        vertical-align: top;\n",
       "    }\n",
       "\n",
       "    .dataframe thead th {\n",
       "        text-align: right;\n",
       "    }\n",
       "</style>\n",
       "<table border=\"1\" class=\"dataframe\">\n",
       "  <thead>\n",
       "    <tr style=\"text-align: right;\">\n",
       "      <th></th>\n",
       "      <th>Unnamed: 0</th>\n",
       "      <th>Title</th>\n",
       "      <th>cleaned_story</th>\n",
       "    </tr>\n",
       "  </thead>\n",
       "  <tbody>\n",
       "    <tr>\n",
       "      <th>0</th>\n",
       "      <td>0</td>\n",
       "      <td>Thumbelina</td>\n",
       "      <td>Once upon a time, in a world of wonder and enc...</td>\n",
       "    </tr>\n",
       "    <tr>\n",
       "      <th>1</th>\n",
       "      <td>1</td>\n",
       "      <td>The Star Money</td>\n",
       "      <td>Once upon a time, in a quaint village nestled ...</td>\n",
       "    </tr>\n",
       "    <tr>\n",
       "      <th>2</th>\n",
       "      <td>2</td>\n",
       "      <td>The Twelve Dancing Princesses</td>\n",
       "      <td>In a kingdom where castles touched the clouds ...</td>\n",
       "    </tr>\n",
       "    <tr>\n",
       "      <th>3</th>\n",
       "      <td>3</td>\n",
       "      <td>The Elves and the Shoemaker</td>\n",
       "      <td>In a quaint village nestled at the edge of a l...</td>\n",
       "    </tr>\n",
       "    <tr>\n",
       "      <th>4</th>\n",
       "      <td>4</td>\n",
       "      <td>The Fox and the Cat</td>\n",
       "      <td>Once upon a time, in a lush forest filled with...</td>\n",
       "    </tr>\n",
       "  </tbody>\n",
       "</table>\n",
       "</div>"
      ],
      "text/plain": [
       "   Unnamed: 0                          Title  \\\n",
       "0           0                     Thumbelina   \n",
       "1           1                 The Star Money   \n",
       "2           2  The Twelve Dancing Princesses   \n",
       "3           3    The Elves and the Shoemaker   \n",
       "4           4            The Fox and the Cat   \n",
       "\n",
       "                                       cleaned_story  \n",
       "0  Once upon a time, in a world of wonder and enc...  \n",
       "1  Once upon a time, in a quaint village nestled ...  \n",
       "2  In a kingdom where castles touched the clouds ...  \n",
       "3  In a quaint village nestled at the edge of a l...  \n",
       "4  Once upon a time, in a lush forest filled with...  "
      ]
     },
     "execution_count": 44,
     "metadata": {},
     "output_type": "execute_result"
    }
   ],
   "source": [
    "dataset = pd.read_csv('dataset/merged_stories(1).csv')\n",
    "dataset.head(5)"
   ]
  },
  {
   "cell_type": "code",
   "execution_count": 47,
   "id": "a0a03579-b228-448d-a322-272837c5a954",
   "metadata": {},
   "outputs": [
    {
     "name": "stdout",
     "output_type": "stream",
     "text": [
      "Thumbelina\n",
      "60\n",
      "10\n"
     ]
    }
   ],
   "source": [
    "complete_dataloader = MyDataset(dataset,6)\n",
    "print(complete_dataloader.__getitem__(0)[0])\n",
    "print(len(complete_dataloader.__getitem__(0)[1]))\n",
    "print(len(complete_dataloader.__getitem__(0)[2]))\n"
   ]
  },
  {
   "cell_type": "code",
   "execution_count": 58,
   "id": "04128d6c-eaf9-4357-90e6-e92c2f7a4bbb",
   "metadata": {},
   "outputs": [
    {
     "data": {
      "text/plain": [
       "['My text...', 'My text.', ' My text!', ' My text?', '']"
      ]
     },
     "execution_count": 58,
     "metadata": {},
     "output_type": "execute_result"
    }
   ],
   "source": [
    "t = 'My text...My text. My text! My text?'\n",
    "separate_sentences(t)"
   ]
  },
  {
   "cell_type": "markdown",
   "id": "64362273-090a-48ec-a487-3e715dafa6f8",
   "metadata": {},
   "source": [
    "## V.3"
   ]
  },
  {
   "cell_type": "code",
   "execution_count": 2,
   "id": "3319081b-a5a2-4c7e-a0ce-37d5437509bb",
   "metadata": {},
   "outputs": [],
   "source": [
    "class Custom_Dataset(Dataset):\n",
    "\n",
    "    def __init__(self, dataset,sentences):\n",
    "        super().__init__()\n",
    "        self.dataset = dataset\n",
    "        self.sentences = sentences\n",
    "    def __len__(self):\n",
    "        return len(self.dataset)\n",
    "\n",
    "    def __getitem__(self, idx):\n",
    "        \n",
    "        title = self.dataset.iloc[idx]['Title']\n",
    "        text = separate_sentences(self.dataset.iloc[idx]['cleaned_story'])\n",
    "        list_sentences = [''.join(map(str, text[i:i+self.sentences])) for i in range(0, len(text), self.sentences)]\n",
    "        it = random.randint(0,len(list_sentences)-2)\n",
    "        sentence = list_sentences[it]\n",
    "\n",
    "        if random.random()<0.5:\n",
    "            next_sentence = list_sentences[it+1]\n",
    "            is_next = True\n",
    "            \n",
    "        else:\n",
    "            idx2 = idx\n",
    "            while idx2 == idx:\n",
    "                idx2 = random.randint(0,len(self.dataset)-1)\n",
    "            text2 = separate_sentences(self.dataset.iloc[idx2]['cleaned_story'])\n",
    "            list_sentences2 = [''.join(map(str, text2[i:i+self.sentences])) for i in range(0, len(text2), self.sentences)]\n",
    "            it = random.randint(0,len(list_sentences2)-1)\n",
    "            next_sentence = list_sentences2[it]\n",
    "            \n",
    "            is_next = False\n",
    "        return title,sentence,next_sentence,is_next"
   ]
  },
  {
   "cell_type": "code",
   "execution_count": 3,
   "id": "1af4ecad-31d7-4073-bd4a-ea022800a423",
   "metadata": {},
   "outputs": [
    {
     "data": {
      "text/html": [
       "<div>\n",
       "<style scoped>\n",
       "    .dataframe tbody tr th:only-of-type {\n",
       "        vertical-align: middle;\n",
       "    }\n",
       "\n",
       "    .dataframe tbody tr th {\n",
       "        vertical-align: top;\n",
       "    }\n",
       "\n",
       "    .dataframe thead th {\n",
       "        text-align: right;\n",
       "    }\n",
       "</style>\n",
       "<table border=\"1\" class=\"dataframe\">\n",
       "  <thead>\n",
       "    <tr style=\"text-align: right;\">\n",
       "      <th></th>\n",
       "      <th>Unnamed: 0</th>\n",
       "      <th>Title</th>\n",
       "      <th>cleaned_story</th>\n",
       "    </tr>\n",
       "  </thead>\n",
       "  <tbody>\n",
       "    <tr>\n",
       "      <th>0</th>\n",
       "      <td>0</td>\n",
       "      <td>Thumbelina</td>\n",
       "      <td>Once upon a time, in a world of wonder and enc...</td>\n",
       "    </tr>\n",
       "    <tr>\n",
       "      <th>1</th>\n",
       "      <td>1</td>\n",
       "      <td>The Star Money</td>\n",
       "      <td>Once upon a time, in a quaint village nestled ...</td>\n",
       "    </tr>\n",
       "    <tr>\n",
       "      <th>2</th>\n",
       "      <td>2</td>\n",
       "      <td>The Twelve Dancing Princesses</td>\n",
       "      <td>In a kingdom where castles touched the clouds ...</td>\n",
       "    </tr>\n",
       "    <tr>\n",
       "      <th>3</th>\n",
       "      <td>3</td>\n",
       "      <td>The Elves and the Shoemaker</td>\n",
       "      <td>In a quaint village nestled at the edge of a l...</td>\n",
       "    </tr>\n",
       "    <tr>\n",
       "      <th>4</th>\n",
       "      <td>4</td>\n",
       "      <td>The Fox and the Cat</td>\n",
       "      <td>Once upon a time, in a lush forest filled with...</td>\n",
       "    </tr>\n",
       "  </tbody>\n",
       "</table>\n",
       "</div>"
      ],
      "text/plain": [
       "   Unnamed: 0                          Title  \\\n",
       "0           0                     Thumbelina   \n",
       "1           1                 The Star Money   \n",
       "2           2  The Twelve Dancing Princesses   \n",
       "3           3    The Elves and the Shoemaker   \n",
       "4           4            The Fox and the Cat   \n",
       "\n",
       "                                       cleaned_story  \n",
       "0  Once upon a time, in a world of wonder and enc...  \n",
       "1  Once upon a time, in a quaint village nestled ...  \n",
       "2  In a kingdom where castles touched the clouds ...  \n",
       "3  In a quaint village nestled at the edge of a l...  \n",
       "4  Once upon a time, in a lush forest filled with...  "
      ]
     },
     "execution_count": 3,
     "metadata": {},
     "output_type": "execute_result"
    }
   ],
   "source": [
    "dataset = pd.read_csv('/Users/francesccarandellverdaguer/fairyTaleAI/dataset/merged_stories_full.csv')\n",
    "dataset.head(5)"
   ]
  },
  {
   "cell_type": "code",
   "execution_count": 4,
   "id": "bd520e5f-3b30-4e46-adfa-9749f1ffe13a",
   "metadata": {
    "scrolled": true
   },
   "outputs": [
    {
     "name": "stdout",
     "output_type": "stream",
     "text": [
      "empty range for randrange() (0, 0, 0)\n",
      "Icarus and the Wax Wings: A Greek Myth\n"
     ]
    }
   ],
   "source": [
    "complete_dataloader = Custom_Dataset(dataset,2)\n",
    "for i in range(len(dataset)):\n",
    "    try:\n",
    "        complete_dataloader.__getitem__(i)\n",
    "    except Exception as e:\n",
    "        print(e)\n",
    "        print(dataset.iloc[i].Title)"
   ]
  }
 ],
 "metadata": {
  "kernelspec": {
   "display_name": "Python 3 (ipykernel)",
   "language": "python",
   "name": "python3"
  },
  "language_info": {
   "codemirror_mode": {
    "name": "ipython",
    "version": 3
   },
   "file_extension": ".py",
   "mimetype": "text/x-python",
   "name": "python",
   "nbconvert_exporter": "python",
   "pygments_lexer": "ipython3",
   "version": "3.11.9"
  }
 },
 "nbformat": 4,
 "nbformat_minor": 5
}
